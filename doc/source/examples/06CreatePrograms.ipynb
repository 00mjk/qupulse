{
 "cells": [
  {
   "cell_type": "markdown",
   "metadata": {},
   "source": [
    "# Instantiating Pulses\n",
    "\n",
    "This example will explore how to obtain a concrete instantiated pulse ready for execution on hardware from a parameterized `PulseTemplate` object. The example should be mostly self-contained and easy to follow, however, if you started here and don't know what pulse templates are and how to create them, maybe it's best to have a look at [Modelling a Simple TablePulseTemplate](00SimpleTablePulse.ipynb) first.\n",
    "\n",
    "To start, let us first create a pulse template with a few parameters and two channels.\n",
    "## Instantiating a TablePulse"
   ]
  },
  {
   "cell_type": "code",
   "execution_count": 1,
   "metadata": {},
   "outputs": [
    {
     "data": {
      "image/png": "[encoded data removed]",
      "text/plain": [
       "<Figure size 432x288 with 1 Axes>"
      ]
     },
     "metadata": {
      "needs_background": "light"
     },
     "output_type": "display_data"
    }
   ],
   "source": [
    "%matplotlib inline\n",
    "from qctoolkit.pulses.plotting import plot\n",
    "from qctoolkit.pulses import TablePT\n",
    "template = TablePT(entries={'A': [(0, 0),\n",
    "                                  ('ta', 'va', 'hold'),\n",
    "                                  ('tb', 'vb', 'linear'),\n",
    "                                  ('tend', 0, 'jump')],\n",
    "                            'B': [(0, 0),\n",
    "                                  ('ta', '-va', 'hold'),\n",
    "                                  ('tb', '-vb', 'linear'),\n",
    "                                  ('tend', 0, 'jump')]}, measurements=[('m', 0, 'ta'),\n",
    "                                                                       ('n', 'tb', 'tend-tb')])\n",
    "\n",
    "parameters = {'ta': 2,\n",
    "              'va': 2,\n",
    "              'tb': 4,\n",
    "              'vb': 3,\n",
    "              'tc': 5,\n",
    "              'td': 11,\n",
    "              'tend': 6}\n",
    "_ = plot(template, parameters, sample_rate=100, show=False, plot_measurements={'m', 'n'})\n"
   ]
  },
  {
   "cell_type": "markdown",
   "metadata": {},
   "source": [
    "The `HardwareSetup` class represents the actual hardware and interfaces to the devices in the qctoolkit. It is thus responsible for uploading to and executing pulses on the hardware. To do so it currently expects an instantiated pulse which is represented by `Loop` objects. These can be obtained by plugging the desired parameters into the `create_program` method of your `PulseTemplate` object."
   ]
  },
  {
   "cell_type": "code",
   "execution_count": 2,
   "metadata": {},
   "outputs": [
    {
     "name": "stdout",
     "output_type": "stream",
     "text": [
      "LOOP 1 times:\n",
      "  ->EXEC <qctoolkit._program.waveforms.MultiChannelWaveform object at 0x000000000B025D68> 1 times\n",
      "Defined on {'A', 'B'}\n",
      "{'m': (array([0.]), array([2.])), 'n': (array([4.]), array([2.]))}\n"
     ]
    }
   ],
   "source": [
    "program = template.create_program(parameters=parameters,\n",
    "                                  channel_mapping={'A': 'A', 'B': 'B'})\n",
    "\n",
    "print(program)\n",
    "print('Defined on', program[0].waveform.defined_channels)\n",
    "print(program.get_measurement_windows())"
   ]
  },
  {
   "cell_type": "markdown",
   "metadata": {},
   "source": [
    "The output shows us that a simple `Loop` object was created which just executes a single waveform without repetitions, just as our `PulseTemplate` specifies. In the `Loop` object all parameter references from the template have been resolved and replaced by the values provided in the `parameters` dictionary, so this is our pulse ready to be executed on the hardware.\n",
    "\n",
    "### Mapping Channels and Measurements During Instantiation\n",
    "\n",
    "The `channel_mapping` keyword argument allows us to rename channels or to drop them by mapping them to `None`. We can do the same to measurements using the `measurement_mapping` keyword argument."
   ]
  },
  {
   "cell_type": "code",
   "execution_count": 3,
   "metadata": {},
   "outputs": [
    {
     "name": "stdout",
     "output_type": "stream",
     "text": [
      "LOOP 1 times:\n",
      "  ->EXEC <qctoolkit._program.waveforms.TableWaveform object at 0x000000000B0B6160> 1 times\n",
      "Defined on {'Y'}\n",
      "{'foo': (array([0.]), array([2.]))}\n"
     ]
    }
   ],
   "source": [
    "program = template.create_program(parameters=parameters,\n",
    "                                  channel_mapping={'A': None, 'B': 'Y'},\n",
    "                                  measurement_mapping={'m': 'foo', 'n': None})\n",
    "print(program)\n",
    "print('Defined on', program[0].waveform.defined_channels)\n",
    "print(program.get_measurement_windows())"
   ]
  },
  {
   "cell_type": "markdown",
   "metadata": {},
   "source": [
    "## Instantiating Composed Pulses\n",
    "\n",
    "Let's have a brief look at a slightly more complex pulse. Say we want to repeat our previous pulse a few times and follow it up with a brief sine wave on each channel."
   ]
  },
  {
   "cell_type": "code",
   "execution_count": 4,
   "metadata": {
    "scrolled": false
   },
   "outputs": [
    {
     "name": "stdout",
     "output_type": "stream",
     "text": [
      "LOOP 1 times:\n",
      "  ->LOOP 4 times:\n",
      "      ->EXEC <qctoolkit._program.waveforms.MultiChannelWaveform object at 0x000000000B085A58> 1 times\n",
      "  ->EXEC <qctoolkit._program.waveforms.MultiChannelWaveform object at 0x000000000B0D0588> 1 times\n",
      "{'m': (array([ 0.,  6., 12., 18.]), array([2., 2., 2., 2.])), 'n': (array([ 4., 10., 16., 22.]), array([2., 2., 2., 2.]))}\n"
     ]
    },
    {
     "data": {
      "image/png": "[encoded data removed]",
      "text/plain": [
       "<Figure size 432x288 with 1 Axes>"
      ]
     },
     "metadata": {
      "needs_background": "light"
     },
     "output_type": "display_data"
    }
   ],
   "source": [
    "from qctoolkit.pulses import FunctionPT, SequencePT, RepetitionPT, AtomicMultiChannelPT\n",
    "\n",
    "repeated_template = RepetitionPT(template, 'n_rep')\n",
    "sine_template = FunctionPT('sin_a*sin(t)', '2*3.1415')\n",
    "two_channel_sine_template = AtomicMultiChannelPT(\n",
    "                                (sine_template, {'default': 'A'}), \n",
    "                                (sine_template, {'default': 'B'}, {'sin_a': 'sin_b'})\n",
    ")\n",
    "sequence_template = SequencePT(repeated_template, two_channel_sine_template)\n",
    "\n",
    "sequence_parameters = dict(parameters) # we just copy our parameter dict from before\n",
    "sequence_parameters['n_rep'] = 4       # and add a few new values for the new params from the sine wave\n",
    "sequence_parameters['sin_a'] = 1\n",
    "sequence_parameters['sin_b'] = 2\n",
    "\n",
    "_ = plot(sequence_template, parameters=sequence_parameters, sample_rate=100, show=False)\n",
    "sequence_program = sequence_template.create_program(parameters=sequence_parameters, \n",
    "                                                    channel_mapping={'A': 'A', 'B': 'B'})\n",
    "print(sequence_program)\n",
    "print(sequence_program.get_measurement_windows())"
   ]
  },
  {
   "cell_type": "markdown",
   "metadata": {},
   "source": [
    "As we can see, our `Loop` now contains an inner `Loop` object which repeats a waveform four times and additionally executes another waveform. This reflects the structure of our pulse template. Note also that the single measurement window defined by our pulse template `template` is repeated four times as well in the `Loop` object, according to the number of repetitions of the corresponding pulse.\n",
    "\n",
    "Don't worry too much about the inner workings of the `Loop` objects, though. We were just taking a short look at them here. In practice it will be sufficient to just obtain them using the `create_program` method of `PulseTemplate` and pass them on to `HardwareSetup` when required."
   ]
  }
 ],
 "metadata": {
  "kernelspec": {
   "display_name": "Python 3",
   "language": "python",
   "name": "python3"
  },
  "language_info": {
   "codemirror_mode": {
    "name": "ipython",
    "version": 3
   },
   "file_extension": ".py",
   "mimetype": "text/x-python",
   "name": "python",
   "nbconvert_exporter": "python",
   "pygments_lexer": "ipython3",
   "version": "3.6.5"
  }
 },
 "nbformat": 4,
 "nbformat_minor": 2
}
