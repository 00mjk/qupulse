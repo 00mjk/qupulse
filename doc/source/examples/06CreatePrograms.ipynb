{
 "cells": [
  {
   "cell_type": "markdown",
   "metadata": {},
   "source": [
    "# Instantiating pulses\n",
    "Let us first create a pulse template."
   ]
  },
  {
   "cell_type": "code",
   "execution_count": 1,
   "metadata": {},
   "outputs": [
    {
     "data": {
      "image/png": "[encoded data removed]",
      "text/plain": [
       "<Figure size 432x288 with 1 Axes>"
      ]
     },
     "metadata": {},
     "output_type": "display_data"
    }
   ],
   "source": [
    "%matplotlib inline\n",
    "from qctoolkit.pulses.plotting import plot\n",
    "from qctoolkit.pulses import TablePT\n",
    "template = TablePT(entries={'A': [(0, 0),\n",
    "                                  ('ta', 'va', 'hold'),\n",
    "                                  ('tb', 'vb', 'linear'),\n",
    "                                  ('tend', 0, 'jump')],\n",
    "                            'B': [(0, 0),\n",
    "                                  ('ta', '-va', 'hold'),\n",
    "                                  ('tb', '-vb', 'linear'),\n",
    "                                  ('tend', 0, 'jump')]}, measurements=[('m', 0, 'ta'),\n",
    "                                                                       ('n', 'tb', 'tend-tb')])\n",
    "\n",
    "parameters = {'ta': 2,\n",
    "              'va': 2,\n",
    "              'tb': 4,\n",
    "              'vb': 3,\n",
    "              'tc': 5,\n",
    "              'td': 11,\n",
    "              'tend': 6}\n",
    "_ = plot(template, parameters, sample_rate=100, show=False, plot_measurements={'m', 'n'})\n"
   ]
  },
  {
   "cell_type": "markdown",
   "metadata": {},
   "source": [
    "The `HardwareSetup` class currently expects an instantiated pulse which is currently represented by `Loop` objects. These can be obtained by plugging the desired parameters into the `create_program` method."
   ]
  },
  {
   "cell_type": "code",
   "execution_count": 2,
   "metadata": {},
   "outputs": [
    {
     "name": "stdout",
     "output_type": "stream",
     "text": [
      "LOOP 1 times:\n",
      "  ->EXEC <qctoolkit._program.waveforms.MultiChannelWaveform object at 0x000000000BC2EEF0> 1 times\n",
      "Defined on {'A', 'B'}\n",
      "{'n': (array([4.]), array([2.])), 'm': (array([0.]), array([2.]))}\n"
     ]
    }
   ],
   "source": [
    "program = template.create_program(parameters=parameters,\n",
    "                                  channel_mapping={'A': 'A', 'B': 'B'})\n",
    "\n",
    "print(program)\n",
    "print('Defined on', program[0].waveform.defined_channels)\n",
    "print(program.get_measurement_windows())"
   ]
  },
  {
   "cell_type": "markdown",
   "metadata": {},
   "source": [
    "The `channel_mapping` keyword argument allows us to rename channels or to drop them by mapping them to `None`. We can do the same to measurements."
   ]
  },
  {
   "cell_type": "code",
   "execution_count": 3,
   "metadata": {},
   "outputs": [
    {
     "name": "stdout",
     "output_type": "stream",
     "text": [
      "LOOP 1 times:\n",
      "  ->EXEC <qctoolkit._program.waveforms.TableWaveform object at 0x000000000BC491D0> 1 times\n",
      "Defined on {'Y'}\n",
      "{'foo': (array([0.]), array([2.]))}\n"
     ]
    }
   ],
   "source": [
    "program = template.create_program(parameters=parameters,\n",
    "                                  channel_mapping={'A': None, 'B': 'Y'},\n",
    "                                  measurement_mapping={'m': 'foo', 'n': None})\n",
    "print(program)\n",
    "print('Defined on', program[0].waveform.defined_channels)\n",
    "print(program.get_measurement_windows())"
   ]
  }
 ],
 "metadata": {
  "kernelspec": {
   "display_name": "Python [conda env:qctoolkit]",
   "language": "python",
   "name": "conda-env-qctoolkit-py"
  },
  "language_info": {
   "codemirror_mode": {
    "name": "ipython",
    "version": 3
   },
   "file_extension": ".py",
   "mimetype": "text/x-python",
   "name": "python",
   "nbconvert_exporter": "python",
   "pygments_lexer": "ipython3",
   "version": "3.5.5"
  }
 },
 "nbformat": 4,
 "nbformat_minor": 2
}
