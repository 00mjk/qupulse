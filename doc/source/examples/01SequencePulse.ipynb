{
 "cells": [
  {
   "cell_type": "markdown",
   "metadata": {},
   "source": [
    "# Combining PulseTemplates Using SequencePulseTemplate\n",
    "\n",
    "In this example we will use the `SequencePulseTemplate` class to build a sequence of two of the simple table pulses defined in [Modelling a Simple TablePulseTemplate](00SimpleTablePulse.ipynb). We will also map the parameters such that we can individually adapt values in either of the two subtemplates.\n",
    "\n",
    "We start with the defintion of the `TablePulseTemplate`:"
   ]
  },
  {
   "cell_type": "code",
   "execution_count": 1,
   "metadata": {
    "collapsed": false
   },
   "outputs": [],
   "source": [
    "from qctoolkit.pulses import TablePulseTemplate\n",
    "\n",
    "template = TablePulseTemplate(identifier='foo')\n",
    "template.add_entry('ta', 'va', interpolation='hold')\n",
    "template.add_entry('tb', 'vb', interpolation='linear')\n",
    "template.add_entry('tend', 0, interpolation='jump')"
   ]
  },
  {
   "cell_type": "markdown",
   "metadata": {},
   "source": [
    "Constructing a sequence of two of these requires us to set up a `SequencePulseTemplate` instance which expects a list of subtemplates, a set of external parameters and corresponding parameters mappings:"
   ]
  },
  {
   "cell_type": "code",
   "execution_count": 2,
   "metadata": {
    "collapsed": false
   },
   "outputs": [],
   "source": [
    "from qctoolkit.pulses import SequencePulseTemplate\n",
    "\n",
    "external_parameters = ['ta', 'tb', 'tc', 'td', 'va', 'vb', 'tend']\n",
    "first_mapping = {\n",
    "    'ta': 'ta',\n",
    "    'tb': 'tb',\n",
    "    'va': 'va',\n",
    "    'vb': 'vb',\n",
    "    'tend': 'tend'\n",
    "}\n",
    "second_mapping = {\n",
    "    'ta': 'tc',\n",
    "    'tb': 'td',\n",
    "    'va': 'vb',\n",
    "    'vb': 'va + vb',\n",
    "    'tend': '2 * tend'\n",
    "}\n",
    "sequence = SequencePulseTemplate([(template, first_mapping),\n",
    "                                  (template, second_mapping)],\n",
    "                                 external_parameters)"
   ]
  },
  {
   "cell_type": "markdown",
   "metadata": {},
   "source": [
    "Our sequence now exposes the parameters declared in the `external_parameters` set:"
   ]
  },
  {
   "cell_type": "code",
   "execution_count": 3,
   "metadata": {
    "collapsed": false
   },
   "outputs": [
    {
     "name": "stdout",
     "output_type": "stream",
     "text": [
      "frozenset({'td', 'tc', 'ta', 'vb', 'va', 'tb', 'tend'})\n"
     ]
    }
   ],
   "source": [
    "print(sequence.parameter_names)"
   ]
  },
  {
   "cell_type": "markdown",
   "metadata": {},
   "source": [
    "The mappings are constructed such that the first occurance of our table template will receive its parameters without any modification. For the second, however, we renamed the parameters: The 'tc' parameter of the sequence is mapped to the 'ta' parameter of the table template instance; 'td' is mapped to 'tb' of the subtemplate, 'vb' (of the sequence template) to 'va' (of the subtemplate). The value for 'vb' of the subtemplate is computed as the sum of the values of 'va' and 'vb' passed to the sequence and the value for 'tend' is double before passing it on. We can do a variety of transformations here, allowing us to modify how parameters are handled to add additional computations in composed pulse templates or simply to avoid name collisions between subtemplate parameters.\n",
    "\n",
    "Let's throw in some values and plot our sequence:"
   ]
  },
  {
   "cell_type": "code",
   "execution_count": 3,
   "metadata": {
    "collapsed": false,
    "scrolled": true
   },
   "outputs": [
    {
     "name": "stderr",
     "output_type": "stream",
     "text": [
      "C:\\Anaconda3\\lib\\site-packages\\matplotlib\\figure.py:387: UserWarning: matplotlib is currently using a non-GUI backend, so cannot show the figure\n",
      "  \"matplotlib is currently using a non-GUI backend, \"\n"
     ]
    },
    {
     "data": {
      "image/png": "[encoded data removed]",
      "text/plain": [
       "<matplotlib.figure.Figure at 0x59ebb00>"
      ]
     },
     "metadata": {},
     "output_type": "display_data"
    }
   ],
   "source": [
    "%matplotlib inline\n",
    "from qctoolkit.pulses import plot\n",
    "\n",
    "parameters = {'ta': 2,\n",
    "              'va': 2,\n",
    "              'tb': 4,\n",
    "              'vb': 3,\n",
    "              'tc': 5,\n",
    "              'td': 11,\n",
    "              'tend': 6}\n",
    "plot(sequence, parameters, sample_rate=100)"
   ]
  },
  {
   "cell_type": "code",
   "execution_count": null,
   "metadata": {
    "collapsed": true
   },
   "outputs": [],
   "source": []
  }
 ],
 "metadata": {
  "kernelspec": {
   "display_name": "Python 3",
   "language": "python",
   "name": "python3"
  },
  "language_info": {
   "codemirror_mode": {
    "name": "ipython",
    "version": 3
   },
   "file_extension": ".py",
   "mimetype": "text/x-python",
   "name": "python",
   "nbconvert_exporter": "python",
   "pygments_lexer": "ipython3",
   "version": "3.4.3"
  }
 },
 "nbformat": 4,
 "nbformat_minor": 0
}
