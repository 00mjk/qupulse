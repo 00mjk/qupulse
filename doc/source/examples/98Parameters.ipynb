{
 "cells": [
  {
   "cell_type": "markdown",
   "metadata": {},
   "source": [
    "# More Sophisticated Parameters\n",
    "\n",
    "This example assumes that you are familiar with the sequencing process. If you need a refresher on this, have a look at [The Sequencing Process: Obtaining Pulse Instances From Pulse Templates](04Sequencing.ipynb) first.\n",
    "\n",
    "*Attention/Broken: During the creation of this example some implementation errors were found in the qctoolkit. Due to time constraints, these were not fixed immediately, leaving this example to be slightly flawed. However, in order to demonstrate the underlying principles, this example is published in its current form. Annotations like this mark where the current behavior of the qctoolit diverges from the intended one.*\n",
    "\n",
    "So far we have only considered constant parameter values. Now assume that we need to derive the value for a parameter based on some measurements we've made during the execution of previous parts of a composite pulse. For example, let the pulse we want to execute be constructed as follows:"
   ]
  },
  {
   "cell_type": "code",
   "execution_count": 1,
   "metadata": {},
   "outputs": [
    {
     "ename": "TypeError",
     "evalue": "__init__() got an unexpected keyword argument 'measurement'",
     "output_type": "error",
     "traceback": [
      "\u001b[1;31m---------------------------------------------------------------------------\u001b[0m",
      "\u001b[1;31mTypeError\u001b[0m                                 Traceback (most recent call last)",
      "\u001b[1;32m<ipython-input-1-a6a0213584ce>\u001b[0m in \u001b[0;36m<module>\u001b[1;34m()\u001b[0m\n\u001b[0;32m      7\u001b[0m                                         (8, 0)]})\n\u001b[0;32m      8\u001b[0m \u001b[1;33m\u001b[0m\u001b[0m\n\u001b[1;32m----> 9\u001b[1;33m \u001b[0mmeasurement_template\u001b[0m \u001b[1;33m=\u001b[0m \u001b[0mTablePulseTemplate\u001b[0m\u001b[1;33m(\u001b[0m\u001b[0mmeasurement\u001b[0m\u001b[1;33m=\u001b[0m\u001b[1;32mTrue\u001b[0m\u001b[1;33m)\u001b[0m\u001b[1;33m\u001b[0m\u001b[0m\n\u001b[0m\u001b[0;32m     10\u001b[0m \u001b[0mmeasurement_template\u001b[0m\u001b[1;33m.\u001b[0m\u001b[0madd_entry\u001b[0m\u001b[1;33m(\u001b[0m\u001b[1;36m0\u001b[0m\u001b[1;33m,\u001b[0m \u001b[1;36m2\u001b[0m\u001b[1;33m)\u001b[0m\u001b[1;33m\u001b[0m\u001b[0m\n\u001b[0;32m     11\u001b[0m \u001b[0mmeasurement_template\u001b[0m\u001b[1;33m.\u001b[0m\u001b[0madd_entry\u001b[0m\u001b[1;33m(\u001b[0m\u001b[1;36m4\u001b[0m\u001b[1;33m,\u001b[0m \u001b[1;36m0\u001b[0m\u001b[1;33m)\u001b[0m\u001b[1;33m\u001b[0m\u001b[0m\n",
      "\u001b[1;31mTypeError\u001b[0m: __init__() got an unexpected keyword argument 'measurement'"
     ]
    }
   ],
   "source": [
    "%matplotlib notebook\n",
    "from qctoolkit.pulses import TablePulseTemplate, SequencePulseTemplate, plot\n",
    "\n",
    "init_template = TablePulseTemplate({0: [(2, 5),\n",
    "                                        (4, -5),\n",
    "                                        (6, 0),\n",
    "                                        (8, 0)]})\n",
    "\n",
    "measurement_template = TablePulseTemplate(measurement=True)\n",
    "measurement_template.add_entry(0, 2)\n",
    "measurement_template.add_entry(4, 0)\n",
    "\n",
    "dependent_template = TablePulseTemplate()\n",
    "dependent_template.add_entry(2, 0)\n",
    "dependent_template.add_entry(5, 'v', 'linear')\n",
    "dependent_template.add_entry(10, 0, 'linear')\n",
    "\n",
    "sequence_template = SequencePulseTemplate([(init_template, {}),\n",
    "                                           (measurement_template, {}),\n",
    "                                           (dependent_template, {'v': 'v'}),\n",
    "                                           (init_template, {})\n",
    "                                          ], {'v'})\n",
    "\n",
    "plot(sequence_template, {'v': 1}, sample_rate=100)"
   ]
  },
  {
   "cell_type": "markdown",
   "metadata": {},
   "source": [
    "Now we want to let the value of parameter `v` depend somehow on the measurement we make between time 8 and 12 (assuming we have a way to obtain measurement data, which is currently not the case (work in progress)). Thus we need to execute the first part of the pulse, then compute the parameter value and execute the remainder. We can do so be encapsulating the computation of the parameter value in a custom subclass of `Parameter`. Assuming, for simplicity, that we have some `measurement_manager` object which we can query whether or not the measurement has been made (`is_measurement_available()`) and what data was obtained (`get_data()`) and that the value of `v` shall simply be twice the measured data, this subclass might look like this:"
   ]
  },
  {
   "cell_type": "code",
   "execution_count": null,
   "metadata": {
    "collapsed": true
   },
   "outputs": [],
   "source": [
    "from qctoolkit.pulses import Parameter\n",
    "\n",
    "class MeasurementDependentParameter(Parameter):\n",
    "    \n",
    "    def __init__(self, measurement_manager) -> None:\n",
    "        self.measurement_manager = measurement_manager\n",
    "    \n",
    "    @property\n",
    "    def requires_stop(self) -> bool:\n",
    "        return not self.measurement_manager.is_measurement_available()\n",
    "        \n",
    "    def get_value(self) -> float:\n",
    "        return 2*(self.measurement_manager.get_data())\n",
    "    \n",
    "    def get_serialization_data(self, serializer):\n",
    "        raise NotImplementedError()\n",
    "        \n",
    "    @staticmethod\n",
    "    def deserialize(serializer):\n",
    "        raise NotImplementedError()"
   ]
  },
  {
   "cell_type": "markdown",
   "metadata": {},
   "source": [
    "We overwrite the abstract property `requires_stop` and the abstract method `get_value` of the `Parameter` base class. `requires_stop` is used to indicate to the `Sequencer` whether the `Parameter` object can currently be evaluated or whether the sequencing process has to be interrupted. Our `MeasurementDependentParameter` will return `True` if no measurement data is available (in contrast, the `ConstantParameter` - which internally represents any float value passed in - always returns `False`). The `get_value` method returns the parameter value. It is only called if `requires_stop` is false. In the `MesaurementDependentParameter` class, we assume that the measured data is a single float and that we simple want to multiply it by 2 as the parameter's value. The other two methods, `get_serialization_data` and `deserialize` also must be overwritten since each `Parameter` implements the [`Serializable` interface](03Serialization.ipynb). However, we just raise an exception here since these methods are not relevant in this example.\n",
    "\n",
    "We would then set up our pulse for execution like as in the following snippet (including a stub implementation of a `MeasurementManager` just for demonstration purposes):"
   ]
  },
  {
   "cell_type": "code",
   "execution_count": null,
   "metadata": {
    "collapsed": true
   },
   "outputs": [],
   "source": [
    "from qctoolkit.pulses import Sequencer\n",
    "\n",
    "# We define a stub for the measurement manager here only for illustration purposes.\n",
    "class MeasurementManager:\n",
    "    def __init__(self, sequencer: Sequencer) -> None:\n",
    "        self.sequencer = sequencer\n",
    "        self.is_available = False\n",
    "        \n",
    "    def is_measurement_available(self) -> bool:\n",
    "        return self.is_available\n",
    "    \n",
    "    def get_data(self) -> float:\n",
    "        return 3\n",
    "\n",
    "sequencer = Sequencer()\n",
    "measurement_manager = MeasurementManager(sequencer)\n",
    "parameter = MeasurementDependentParameter(measurement_manager)\n",
    "\n",
    "sequencer.push(init_template)\n",
    "sequencer.push(dependent_template, {'v': parameter})\n",
    "sequencer.push(measurement_template)\n",
    "sequencer.push(init_template)"
   ]
  },
  {
   "cell_type": "markdown",
   "metadata": {},
   "source": [
    "The `MeasurementManager.is_measurement_available` stub will simply return the value to which we have set the `is_available` member variable of the class.\n",
    "\n",
    "When we invoke `Sequencer.build`, for each template on the sequencing stack it first queries whether or not all parameters can be evaluated. If any of them returns `True` via the `requires_stop` method, the sequencing process will be interrupted.\n",
    "In our example, `Sequencer` will first proceed through the first two subtemplates of `sequence_template`. When it arrives at `dependent_template`, it will stop:"
   ]
  },
  {
   "cell_type": "code",
   "execution_count": null,
   "metadata": {
    "collapsed": true
   },
   "outputs": [],
   "source": [
    "first_block = sequencer.build()\n",
    "print([instruction for instruction in first_block])"
   ]
  },
  {
   "cell_type": "markdown",
   "metadata": {},
   "source": [
    "As you can see in the output above, only two executions instructions are generated, one for each `TablePulseTemplate` instance before the `dependent_template`. Let us now switch the `is_available` variable of the `MeasurementManager` instance to `True`, simulating that we've obtained some measurement result, and invoke the `Sequencer` again:"
   ]
  },
  {
   "cell_type": "code",
   "execution_count": null,
   "metadata": {
    "collapsed": true
   },
   "outputs": [],
   "source": [
    "measurement_manager.is_available = True\n",
    "second_block = sequencer.build()\n",
    "print([instruction for instruction in second_block])"
   ]
  },
  {
   "cell_type": "markdown",
   "metadata": {},
   "source": [
    "We have now obtained the complete sequence with one execution instruction for each `TablePulseTemplate`.\n",
    "*Attention/Broken: Currently this is incorrect behavior: We would want to only get the remainder of the pulse in the second call since we wouldn't want to execute the first part of the pulse again. Needs fixing ([issue 105](https://github.com/qutech/qc-toolkit/issues/105)).*"
   ]
  }
 ],
 "metadata": {
  "kernelspec": {
   "display_name": "Python [conda env:qctoolkit]",
   "language": "python",
   "name": "conda-env-qctoolkit-py"
  },
  "language_info": {
   "codemirror_mode": {
    "name": "ipython",
    "version": 3
   },
   "file_extension": ".py",
   "mimetype": "text/x-python",
   "name": "python",
   "nbconvert_exporter": "python",
   "pygments_lexer": "ipython3",
   "version": "3.5.2"
  }
 },
 "nbformat": 4,
 "nbformat_minor": 1
}
