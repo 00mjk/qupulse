{
 "cells": [
  {
   "cell_type": "code",
   "execution_count": 1,
   "metadata": {
    "collapsed": false
   },
   "outputs": [],
   "source": [
    "from qctoolkit.pulses import TablePulseTemplate\n",
    "import qctoolkit.pulses.plotting\n",
    "import numpy as np\n",
    "import sympy as sp\n",
    "from sympy import sympify as spy\n",
    "\n",
    "#measurement point\n",
    "M = sp.IndexedBase('M', shape=(2, ))\n",
    "\n",
    "#singlet initialization point\n",
    "S_init = sp.IndexedBase('S_init', shape=(2, ))\n",
    "\n",
    "#operation point\n",
    "O = sp.IndexedBase('O', shape=(2, ))\n",
    "\n",
    "#singlet triplet transition\n",
    "ST = sp.IndexedBase('ST', shape=(2, ))\n",
    "ST_jump = sp.IndexedBase('ST_jump', shape=(2, ))\n",
    "\n",
    "#init duration\n",
    "init_dur = ('t_init')\n",
    "\n",
    "\n",
    "def from_entry_list(tuple_list, channel_names=None, **kwargs):\n",
    "    max_len = max(len(t) for t in tuple_list)\n",
    "    min_len = min(len(t) for t in tuple_list)\n",
    "        \n",
    "    if max_len-min_len > 1:\n",
    "        raise Exception()\n",
    "    elif max_len-min_len == 1:\n",
    "        num_chan = min_len-1\n",
    "    else:\n",
    "        if all(t[-1] in TablePulseTemplate.interpolation_strategies.keys() or t[-1] in TablePulseTemplate.interpolation_strategies.values()\n",
    "              for t in tuple_list):\n",
    "            num_chan = min_len - 2\n",
    "        elif any(t[-1] in TablePulseTemplate.interpolation_strategies.keys() or t[-1] in TablePulseTemplate.interpolation_strategies.values()\n",
    "                 for t in tuple_list):\n",
    "            raise Exception()\n",
    "        else:\n",
    "            num_chan = min_len - 1\n",
    "    \n",
    "    if channel_names is None:\n",
    "        channel_names = list(range(num_chan))\n",
    "    elif len(channel_names) != num_chan:\n",
    "        raise Exception()\n",
    "        \n",
    "    parsed = {channel_name: [] for channel_name in channel_names}\n",
    "        \n",
    "    \n",
    "    for time, *data in tuple_list:\n",
    "        if len(data) == num_chan:\n",
    "            volts = data\n",
    "            interp = 'hold'\n",
    "        else:\n",
    "            *volts, interp = data\n",
    "        \n",
    "        for channel_name, volt in zip(channel_names, volts):\n",
    "              parsed[channel_name].append((time, volt, interp))\n",
    "    \n",
    "    return TablePulseTemplate(parsed, **kwargs)\n",
    "        \n",
    "\n",
    "\n",
    "time_diffs = [          't_init', 't_ramp_up', '0',      't_ramp_low']\n",
    "voltages =   ['S_init', 'M',      'ST_up',     'ST_low', 'O']\n",
    "interpol =   ['hold',   'jump',   'linear',    'jump',   'linear']\n",
    "\n",
    "times = [0] + ['+'.join(time_diffs[:i+1]) for i in range(len(time_diffs))]\n",
    "v_X = [v + '_X' for v in voltages]\n",
    "v_Y = [v + '_Y' for v in voltages]\n",
    "\n",
    "substitutions = {'t_ramp_up': 'ST_up-M'}\n",
    "\n",
    "times = [sp.sympify(t) for t in times]\n",
    "\n",
    "init = TablePulseTemplate({'RFX': [(t, v, interp) for t, v, interp in zip(times, v_X, interpol)],\n",
    "                           'RFY': [(t, v, interp) for t, v, interp in zip(times, v_Y, interpol)]},\n",
    "                         identifier='init')\n",
    "\n",
    "\n",
    "#qctoolkit.pulses.plotting.plot(init, dict(t_init=2, t_ramp_up=3, t_ramp_low=2, S_init))"
   ]
  },
  {
   "cell_type": "code",
   "execution_count": 2,
   "metadata": {
    "collapsed": false
   },
   "outputs": [
    {
     "name": "stderr",
     "output_type": "stream",
     "text": [
      "C:\\Users\\lablocal\\Anaconda3\\envs\\lab_master\\lib\\site-packages\\matplotlib\\figure.py:402: UserWarning: matplotlib is currently using a non-GUI backend, so cannot show the figure\n",
      "  \"matplotlib is currently using a non-GUI backend, \"\n"
     ]
    },
    {
     "data": {
      "image/png": "[encoded data removed]",
      "text/plain": [
       "<matplotlib.figure.Figure at 0x23df83d5898>"
      ]
     },
     "execution_count": 2,
     "metadata": {},
     "output_type": "execute_result"
    }
   ],
   "source": [
    "fid_direct = TablePulseTemplate({'RFX': [(0,                'S_init_X'),\n",
    "                                         ('t_init',         'M_X',      'hold'),\n",
    "                                         ('t_ST_fall',      'ST_up_X',  'linear'),\n",
    "                                         ('t_ST_fall',      'ST_low_X'),\n",
    "                                         ('t_op',           'O_X',      'linear'),\n",
    "                                         ('t_op + t_fid',   'O_X',      'hold'),\n",
    "                                         ('t_ST_jump',      'ST_low_X', 'linear'),\n",
    "                                         ('t_ST_jump',      'ST_up_X'),\n",
    "                                         ('t_meas_start',   'M_X',      'linear'),\n",
    "                                         ('t_meas_end',     'M_X',      'hold'),\n",
    "                                         ('total_duration', 'M_X',      'hold')],\n",
    "                                 'RFY': [(0,                'S_init_Y'),\n",
    "                                         ('t_init',         'M_Y',      'hold'),\n",
    "                                         ('t_ST_fall',      'ST_up_Y',  'linear'),\n",
    "                                         ('t_ST_fall',      'ST_low_Y'),\n",
    "                                         ('t_op',           'O_Y',      'linear'),\n",
    "                                         ('t_op + t_fid',   'O_Y',      'hold'),\n",
    "                                         ('t_ST_jump',      'ST_low_Y', 'linear'),\n",
    "                                         ('t_ST_jump',      'ST_up_Y'),\n",
    "                                         ('t_meas_start',   'M_Y',      'linear'),\n",
    "                                         ('t_meas_end',     'M_Y',      'hold'),\n",
    "                                         ('total_duration', 'M_Y',      'hold')]},\n",
    "                                identifier='fid',\n",
    "                                measurements=[('MEAS', 't_meas_start', 't_meas_end - t_meas_start')])\n",
    "\n",
    "example_values = dict(t_init=1, t_ST_fall=3, t_op=5, t_fid=1, t_ST_jump=8, t_meas_start=10, t_meas_end=14, total_duration=16,\n",
    "                      S_init_X=-1, M_X=0, ST_up_X=2, ST_low_X=3, O_X=5,\n",
    "                      S_init_Y=-1, M_Y=0, ST_up_Y=-2, ST_low_Y=-3, O_Y=-5)\n",
    "\n",
    "from qctoolkit.pulses.plotting import plot\n",
    "\n",
    "plot(fid_direct, example_values, 10)"
   ]
  },
  {
   "cell_type": "code",
   "execution_count": 15,
   "metadata": {
    "collapsed": false
   },
   "outputs": [],
   "source": [
    "S_init_X, S_init_Y = sp.symbols('S_init_X S_init_Y')\n",
    "M_X, M_Y = sp.symbols('M_X M_Y')\n",
    "\n",
    "ST_plus_X, ST_plus_Y = sp.symbols('ST_plus_X ST_plus_Y')\n",
    "ST_plus_width_X, ST_plus_width_Y = sp.symbols('ST_plus_width_X, ST_plus_width_Y')\n",
    "\n",
    "ST_plus_begin_X = ST_plus_X - ST_plus_width_X/2\n",
    "ST_plus_begin_Y = ST_plus_Y + ST_plus_width_Y/2\n",
    "ST_plus_end_X = ST_plus_X - ST_plus_width_X/2\n",
    "ST_plus_end_Y = ST_plus_Y + ST_plus_width_Y/2\n",
    "\n",
    "O_X, O_Y = sp.symbols('O_X, O_Y')\n",
    "\n",
    "ramp_speed_X = sp.symbols('ramp_speed_X')\n",
    "\n",
    "t_init = sp.symbols('t_init')\n",
    "\n",
    "t_ST_jump = t_init + (ST_plus_begin_X - M_X)/ramp_speed_X\n",
    "t_op = t_ST_jump + (O_X - ST_plus_end_X)/ramp_speed_X\n",
    "\n",
    "conditions = [ST_plus_begin_X >= M_X,\n",
    "              ST_plus_end_X <= O_X,\n",
    "              ST_plus_begin_Y >= M_Y,\n",
    "              ST_plus_end_Y <= O_Y]\n",
    "\n",
    "init = from_entry_list([(0,        'S_init_X', 'S_init_Y'),\n",
    "                        ('t_init', 'M_X',      'M_Y',       'hold'),\n",
    "                        (t_ST_jump, ST_plus_begin_X, ST_plus_begin_Y, 'linear'),\n",
    "                        (t_ST_jump, ST_plus_end_X,   ST_plus_end_Y),\n",
    "                        (t_op,      O_X, O_Y, 'linear')],\n",
    "                       identifier='init_up_down',\n",
    "                       parameter_constraints=conditions)\n",
    "\n"
   ]
  },
  {
   "cell_type": "code",
   "execution_count": 4,
   "metadata": {
    "collapsed": false
   },
   "outputs": [],
   "source": [
    "t_ST_jump = (O_X - ST_plus_end_X)/ramp_speed_X\n",
    "t_meas_start = t_ST_jump + (ST_plus_begin_X - M_X)/ramp_speed_X\n",
    "t_meas_end = t_meas_start + sp.symbols('t_meas')\n",
    "\n",
    "meas = from_entry_list([(0, 'O_X', 'O_Y'),\n",
    "                        (t_ST_jump, ST_plus_end_X,   ST_plus_end_Y, 'linear'),\n",
    "                        (t_ST_jump, ST_plus_begin_X, ST_plus_begin_Y),\n",
    "                        (t_meas_start, 'M_X', 'M_Y', 'linear'),\n",
    "                        (t_meas_end, 'M_X', 'M_Y', 'hold')],\n",
    "                       measurements=[('M', t_meas_start, 't_meas')],\n",
    "                       identifier='meas')"
   ]
  },
  {
   "cell_type": "code",
   "execution_count": 12,
   "metadata": {
    "collapsed": false
   },
   "outputs": [
    {
     "data": {
      "text/plain": [
       "total_duration"
      ]
     },
     "execution_count": 12,
     "metadata": {},
     "output_type": "execute_result"
    }
   ],
   "source": [
    "from qctoolkit.pulses import SequencePulseTemplate\n",
    "\n",
    "fid_wait = from_entry_list([('t_fid', 'O_X', 'O_Y')])\n",
    "\n",
    "one_run = SequencePulseTemplate(init, fid_wait, meas)\n",
    "\n",
    "fill = from_entry_list([(sp.symbols('total_duration')-one_run.duration.sympified_expression, 'M_X', 'M_Y')])\n",
    "\n",
    "filled_run = SequencePulseTemplate(one_run, fill)\n",
    "\n",
    "filled_run.duration.sympified_expression.simplify()"
   ]
  },
  {
   "cell_type": "code",
   "execution_count": 6,
   "metadata": {
    "collapsed": false
   },
   "outputs": [
    {
     "data": {
      "text/plain": [
       "{'M_X',\n",
       " 'M_Y',\n",
       " 'N',\n",
       " 'O_X',\n",
       " 'O_Y',\n",
       " 'ST_plus_X',\n",
       " 'ST_plus_Y',\n",
       " 'ST_plus_width_X',\n",
       " 'ST_plus_width_Y',\n",
       " 'S_init_X',\n",
       " 'S_init_Y',\n",
       " 'fid_step',\n",
       " 'ramp_speed_X',\n",
       " 't_init',\n",
       " 't_meas',\n",
       " 'total_duration'}"
      ]
     },
     "execution_count": 6,
     "metadata": {},
     "output_type": "execute_result"
    }
   ],
   "source": [
    "from qctoolkit.pulses.loop_pulse_template import ForLoopPulseTemplate\n",
    "from qctoolkit.pulses import MappingTemplate\n",
    "\n",
    "mapped_run = MappingTemplate(filled_run, parameter_mapping={'t_fid': 'n*fid_step'}, allow_partial_parameter_mapping=True)\n",
    "\n",
    "fid_ramp = ForLoopPulseTemplate(mapped_run, loop_index='n', loop_range=(sp.symbols('N'),))\n",
    "fid_ramp.parameter_names"
   ]
  },
  {
   "cell_type": "code",
   "execution_count": 10,
   "metadata": {
    "collapsed": false
   },
   "outputs": [
    {
     "name": "stderr",
     "output_type": "stream",
     "text": [
      "C:\\Users\\lablocal\\Anaconda3\\envs\\lab_master\\lib\\site-packages\\matplotlib\\figure.py:402: UserWarning: matplotlib is currently using a non-GUI backend, so cannot show the figure\n",
      "  \"matplotlib is currently using a non-GUI backend, \"\n"
     ]
    },
    {
     "data": {
      "image/png": "[encoded data removed]",
      "text/plain": [
       "<matplotlib.figure.Figure at 0x23df9f00c88>"
      ]
     },
     "execution_count": 10,
     "metadata": {},
     "output_type": "execute_result"
    }
   ],
   "source": [
    "example_parameters = dict(M_X=0, M_Y=0,\n",
    "                          O_X=4, O_Y=-4,\n",
    "                          S_init_X=-3, S_init_Y=-0.3,\n",
    "                          ramp_speed_X=1/180,\n",
    "                          ST_plus_X=0.4, ST_plus_Y=-0.4,\n",
    "                          ST_plus_width_X=0.2, ST_plus_width_Y=0.2,\n",
    "                          t_meas=1000,\n",
    "                          t_init=200,\n",
    "                          total_duration=5000,\n",
    "                          N=10, fid_step=100\n",
    "                         )\n",
    "                          \n",
    "plot(fid_ramp, example_parameters)"
   ]
  },
  {
   "cell_type": "code",
   "execution_count": 18,
   "metadata": {
    "collapsed": false
   },
   "outputs": [],
   "source": [
    "'@start','@fill','@wait','@reload','@adprep','@wait','@adread','@latch_readout'\n",
    "\n",
    "\n",
    "\n",
    "\n",
    "t_ST_jump = (ST_plus_begin_X - M_X)/ramp_speed_X\n",
    "t_op = t_ST_jump + (O_X - ST_plus_end_X)/ramp_speed_X\n",
    "adprep = from_entry_list([(0,         M_X,             M_Y),\n",
    "                          (t_ST_jump, ST_plus_begin_X, ST_plus_begin_Y, 'linear'),\n",
    "                          (t_ST_jump, ST_plus_end_X,   ST_plus_end_Y),\n",
    "                          (t_op,      O_X,             O_Y, 'linear')],\n",
    "                         \n",
    "                         parameter_constraints=[M_X < ST_plus_begin_X, ST_plus_end_X < O_X],\n",
    "                         identifier='adprep')\n",
    "\n",
    "t_ST_jump = (O_X - ST_plus_end_X)/ramp_speed_X\n",
    "t_meas_start = t_ST_jump + (ST_plus_begin_X - M_X)/ramp_speed_X\n",
    "adread = from_entry_list([(0, O_X, O_Y),\n",
    "                          (t_ST_jump, ST_plus_end_X, ST_plus_end_Y, 'linear'),\n",
    "                          (t_ST_jump, ST_plus_begin_X,   ST_plus_begin_Y),\n",
    "                          (t_meas_start, M_X, M_Y, 'linear')],\n",
    "                         parameter_constraints=[M_X < ST_plus_begin_X, ST_plus_end_X < O_X],\n",
    "                         identifier='adread')\n",
    "\n"
   ]
  },
  {
   "cell_type": "code",
   "execution_count": 83,
   "metadata": {
    "collapsed": false
   },
   "outputs": [],
   "source": [
    "from qctoolkit.expressions import Expression\n",
    "\n",
    "class PointPulseTemplate(TablePulseTemplate):\n",
    "    def __init__(self, time_point_tuple_list, channel_names, **kwargs):\n",
    "        \n",
    "        self._time_point_tuple_list = []\n",
    "        self._ordered_channels = channel_names\n",
    "        entries = {channel_name: [] for channel_name in channel_names}\n",
    "        \n",
    "        for time_point_tuple in time_point_tuple_list:\n",
    "            if len(time_point_tuple) == 2:\n",
    "                time, point, interpolation = time_point_tuple, 'hold'\n",
    "            else:\n",
    "                time, point, interpolation = time_point_tuple\n",
    "            \n",
    "            if isinstance(point, str):\n",
    "                point = sp.IndexedBase(point, shape=(len(channel_names), ))\n",
    "            for ch_i, channel_name in enumerate(channel_names):\n",
    "                entries[channel_name].append((time, Expression(point[ch_i]), interpolation))\n",
    "            self._time_point_tuple_list.append((time, point, interpolation))\n",
    "        \n",
    "        super().__init__(entries=entries, **kwargs)\n",
    "    \n",
    "    @property\n",
    "    def time_point_tuple_list(self):\n",
    "        return self._time_point_tuple_list\n",
    "    \n",
    "    def get_serialization_data(self, serializer):\n",
    "        super_data = super().get_serialization_data(serializer)\n",
    "        super_data.pop('entries')\n",
    "        super_data['time_point_tuple_list'] = [(time, str(point), str(interp))\n",
    "                                                for time, point, interp in self.time_point_tuple_list]\n",
    "        super_data['channel_names'] = self._ordered_channels\n",
    "        return super_data\n",
    "    \n",
    "    @staticmethod\n",
    "    def deserialize(serializer, time_point_tuple_list, channel_names, **kwargs):\n",
    "        PointPulseTemplate(time_point_tuple_list=time_point_tuple_list,\n",
    "                           channel_names=channel_names, **kwargs)\n",
    "        \n",
    "        \n",
    "\n",
    "ppt = PointPulseTemplate([(0, 'S_init', 'hold'),\n",
    "                          ('t_init', 'M', 'jump'),\n",
    "                          ('t_2', 'O', 'linear')],\n",
    "                         ['RFX', 'RFY'])\n",
    "\n",
    "class MemoryBackend(qctoolkit.serialization.StorageBackend):\n",
    "    def __init__(self):\n",
    "        self.storage = dict()\n",
    "    \n",
    "    def put(self, identifier, data, overwrite):\n",
    "        self.storage[identifier] = data\n",
    "\n",
    "    def get(self, identifier):\n",
    "        return self.storage[identifier]\n",
    "    \n",
    "    def exists(self, identifier):\n",
    "        return identifier in self.storage\n",
    "\n",
    "import qctoolkit.serialization\n",
    "be = MemoryBackend()\n",
    "s = qctoolkit.serialization.Serializer(be)"
   ]
  },
  {
   "cell_type": "code",
   "execution_count": 84,
   "metadata": {
    "collapsed": false
   },
   "outputs": [],
   "source": [
    "d = ppt.get_serialization_data(None)\n",
    "\n",
    "s.serialize(ppt)"
   ]
  },
  {
   "cell_type": "code",
   "execution_count": 85,
   "metadata": {
    "collapsed": false
   },
   "outputs": [],
   "source": [
    "ppt2 = s.deserialize('main')"
   ]
  },
  {
   "cell_type": "code",
   "execution_count": 17,
   "metadata": {
    "collapsed": false
   },
   "outputs": [],
   "source": [
    "def debug(f, *args, **kwargs):\n",
    "    import traceback, sys, code\n",
    "    try:\n",
    "        f(*args, **kwargs)\n",
    "    except:\n",
    "        type, value, tb = sys.exc_info()\n",
    "        traceback.print_exc()\n",
    "        last_frame = lambda tb=tb: last_frame(tb.tb_next) if tb.tb_next else tb\n",
    "        frame = last_frame().tb_frame\n",
    "        ns = dict(frame.f_globals)\n",
    "        ns.update(frame.f_locals)\n",
    "        code.interact(local=ns)"
   ]
  },
  {
   "cell_type": "code",
   "execution_count": null,
   "metadata": {
    "collapsed": true
   },
   "outputs": [],
   "source": []
  }
 ],
 "metadata": {
  "kernelspec": {
   "display_name": "lab_master",
   "language": "python",
   "name": "lab_master"
  },
  "language_info": {
   "codemirror_mode": {
    "name": "ipython",
    "version": 3
   },
   "file_extension": ".py",
   "mimetype": "text/x-python",
   "name": "python",
   "nbconvert_exporter": "python",
   "pygments_lexer": "ipython3",
   "version": "3.5.3"
  }
 },
 "nbformat": 4,
 "nbformat_minor": 2
}
