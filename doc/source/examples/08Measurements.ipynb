{
 "cells": [
  {
   "cell_type": "markdown",
   "metadata": {},
   "source": [
    "# Definition of measurements\n",
    "\n",
    "Many pulse templates allow us to declare measurements upon their creation. Each measurement declaration is a tuple that consists of the measurements name, the starting point in the pulse template and the measurements length. The idea behind measurement names is that you can put different types of measurements in one pulse and easily distinguish between the results. `qctoolkit` automatically configures the acquisition driver to measure at the measurement windows.\n",
    "\n",
    "The following example creates a pulse template that contains a measurement named 'M' and a measurement named 'N':"
   ]
  },
  {
   "cell_type": "code",
   "execution_count": 8,
   "metadata": {},
   "outputs": [
    {
     "name": "stdout",
     "output_type": "stream",
     "text": [
      "{'N', 'M'}\n",
      "[('M', 0, 't_meas'), ('N', 0, 't_meas/2')]\n"
     ]
    }
   ],
   "source": [
    "from qctoolkit.pulses import PointPT\n",
    "\n",
    "meas = PointPT([(0, 'm'),\n",
    "                ('t_meas', 'm')],\n",
    "               channel_names=('RF_X', 'RF_Y'),\n",
    "               measurements=[('M', 0, 't_meas'), ('N', 0, 't_meas/2')])\n",
    "print(meas.measurement_names)\n",
    "print(meas.measurement_declarations)"
   ]
  },
  {
   "cell_type": "markdown",
   "metadata": {
    "collapsed": true
   },
   "source": [
    "The measurement windows may not reach out of the declaring pulse template. If that happens an exception is raised during sequencing.\n",
    "\n",
    "It is also possible to rename the measurements:"
   ]
  },
  {
   "cell_type": "code",
   "execution_count": 7,
   "metadata": {},
   "outputs": [
    {
     "name": "stdout",
     "output_type": "stream",
     "text": [
      "{'dbz_fid', 'N', 'charge_scan'}\n"
     ]
    }
   ],
   "source": [
    "from qctoolkit.pulses import SequencePT\n",
    "\n",
    "my_complicated_pulse = SequencePT((meas, {'M': 'charge_scan'}),\n",
    "                                  (meas, {'M': 'dbz_fid'}))\n",
    "print(my_complicated_pulse.measurement_names)"
   ]
  }
 ],
 "metadata": {
  "kernelspec": {
   "display_name": "Python [conda env:qctoolkit]",
   "language": "python",
   "name": "conda-env-qctoolkit-py"
  },
  "language_info": {
   "codemirror_mode": {
    "name": "ipython",
    "version": 3
   },
   "file_extension": ".py",
   "mimetype": "text/x-python",
   "name": "python",
   "nbconvert_exporter": "python",
   "pygments_lexer": "ipython3",
   "version": "3.5.2"
  }
 },
 "nbformat": 4,
 "nbformat_minor": 2
}
