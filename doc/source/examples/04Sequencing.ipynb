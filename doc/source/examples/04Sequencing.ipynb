{
 "cells": [
  {
   "cell_type": "markdown",
   "metadata": {},
   "source": [
    "# The Sequencing Process: Obtaining Pulse Instances From Pulse Templates\n",
    "\n",
    "In the previous examples, we have modelled pulses using the basic members of qctoolkit's `PulseTemplate` class hierarchy. However, these are only templates (or classes) of pulses and may contain parameters so that they cannot be run directly on hardware. First, we have to instantiate concrete waveforms and instructions in which order these will be run. This process is called _sequencing_ in the qctoolkit. It involves the instantiations of parameters with concrete values and the sampling of atomic pulse templates (`TablePulseTemplate` and `FunctionPulseTemplate`) to obtain waveforms. _Sequencing_ is performed by the `Sequencer` class. This example will explore how.\n",
    "\n",
    "First, let's assume we have the `PulseTemplate`s from the examples [Modelling a Simple TablePulseTemplate](00SimpleTablePulse.ipynb) and [Modelling Pulses Using Functions And Expressions](02FunctionPulse.ipynb) composed in a `SequencePulseTable` (cf. [Combining PulseTemplates Using SequencePulseTemplate](01SequencePulse.ipynb)) with some parameter mappings:"
   ]
  },
  {
   "cell_type": "code",
   "execution_count": 1,
   "metadata": {
    "collapsed": false
   },
   "outputs": [
    {
     "ename": "TypeError",
     "evalue": "__init__() missing 1 required positional argument: 'entries'",
     "output_type": "error",
     "traceback": [
      "\u001b[1;31m---------------------------------------------------------------------------\u001b[0m",
      "\u001b[1;31mTypeError\u001b[0m                                 Traceback (most recent call last)",
      "\u001b[1;32m<ipython-input-1-eca00991456d>\u001b[0m in \u001b[0;36m<module>\u001b[1;34m()\u001b[0m\n\u001b[0;32m      2\u001b[0m \u001b[1;32mfrom\u001b[0m \u001b[0mqctoolkit\u001b[0m\u001b[1;33m.\u001b[0m\u001b[0mpulses\u001b[0m \u001b[1;32mimport\u001b[0m \u001b[0mTablePulseTemplate\u001b[0m\u001b[1;33m,\u001b[0m \u001b[0mFunctionPulseTemplate\u001b[0m\u001b[1;33m,\u001b[0m \u001b[0mSequencePulseTemplate\u001b[0m\u001b[1;33m,\u001b[0m \u001b[0mplot\u001b[0m\u001b[1;33m\u001b[0m\u001b[0m\n\u001b[0;32m      3\u001b[0m \u001b[1;33m\u001b[0m\u001b[0m\n\u001b[1;32m----> 4\u001b[1;33m \u001b[0mtable_template\u001b[0m \u001b[1;33m=\u001b[0m \u001b[0mTablePulseTemplate\u001b[0m\u001b[1;33m(\u001b[0m\u001b[1;33m)\u001b[0m\u001b[1;33m\u001b[0m\u001b[0m\n\u001b[0m\u001b[0;32m      5\u001b[0m \u001b[0mtable_template\u001b[0m\u001b[1;33m.\u001b[0m\u001b[0madd_entry\u001b[0m\u001b[1;33m(\u001b[0m\u001b[1;34m'ta'\u001b[0m\u001b[1;33m,\u001b[0m \u001b[1;34m'va'\u001b[0m\u001b[1;33m,\u001b[0m \u001b[0minterpolation\u001b[0m\u001b[1;33m=\u001b[0m\u001b[1;34m'hold'\u001b[0m\u001b[1;33m)\u001b[0m\u001b[1;33m\u001b[0m\u001b[0m\n\u001b[0;32m      6\u001b[0m \u001b[0mtable_template\u001b[0m\u001b[1;33m.\u001b[0m\u001b[0madd_entry\u001b[0m\u001b[1;33m(\u001b[0m\u001b[1;34m'tb'\u001b[0m\u001b[1;33m,\u001b[0m \u001b[1;34m'vb'\u001b[0m\u001b[1;33m,\u001b[0m \u001b[0minterpolation\u001b[0m\u001b[1;33m=\u001b[0m\u001b[1;34m'linear'\u001b[0m\u001b[1;33m)\u001b[0m\u001b[1;33m\u001b[0m\u001b[0m\n",
      "\u001b[1;31mTypeError\u001b[0m: __init__() missing 1 required positional argument: 'entries'"
     ]
    }
   ],
   "source": [
    "%matplotlib notebook\n",
    "from qctoolkit.pulses import TablePulseTemplate, FunctionPulseTemplate, SequencePulseTemplate, plot\n",
    "\n",
    "table_template = TablePulseTemplate()\n",
    "table_template.add_entry('ta', 'va', interpolation='hold')\n",
    "table_template.add_entry('tb', 'vb', interpolation='linear')\n",
    "table_template.add_entry('tend', 0, interpolation='jump')\n",
    "\n",
    "function_template = FunctionPulseTemplate('exp(-t/lambda)*sin(phi*t)', 'duration')\n",
    "\n",
    "table_parameter_mapping = {\n",
    "    'ta': 'ta',\n",
    "    'tb': 'ta + duration',\n",
    "    'tend': '15',\n",
    "    'va': 'va',\n",
    "    'vb': '0'\n",
    "}\n",
    "function_parameter_mapping = {\n",
    "    'lambda': 'lambda',\n",
    "    'phi': 'phi',\n",
    "    'duration': 'duration'\n",
    "}\n",
    "sequence_template = SequencePulseTemplate([(table_template, table_parameter_mapping),\n",
    "                                           (function_template, function_parameter_mapping)],\n",
    "                                          {'ta', 'duration', 'va', 'lambda', 'phi'})\n",
    "\n",
    "\n",
    "plot(sequence_template, {'lambda': 4, 'phi': 8, 'duration': 4*3.1415, 'ta': 1, 'va': 2}, sample_rate=100)"
   ]
  },
  {
   "cell_type": "markdown",
   "metadata": {},
   "source": [
    "While the plot illustrates how the pulse will look like for the given parameter values, the object structure we created is only an abstract representation of pulses with this structure. (This is the reason we always have to provide specific parameters values for plotting.)\n",
    "To convert this tree-like object structure into something the hardware understands, we will use the `Sequencer` class:"
   ]
  },
  {
   "cell_type": "code",
   "execution_count": null,
   "metadata": {
    "collapsed": false
   },
   "outputs": [],
   "source": [
    "from qctoolkit.pulses import Sequencer\n",
    "\n",
    "sequencer = Sequencer()\n",
    "\n",
    "sequencer.push(sequence_template, {'lambda': 4, 'phi': 8, 'duration': 4*3.1415, 'ta': 1, 'va': 2})\n",
    "instruction_block = sequencer.build()\n",
    "print([instruction for instruction in instruction_block])"
   ]
  },
  {
   "cell_type": "markdown",
   "metadata": {},
   "source": [
    "Using the `push` method of `Sequencer`, we add `PulseTemplate` objects to the sequencing stack, i.e., the last pushed object will be sequenced first. We then invoke the `build` method to start the sequencing process, which will process all objects on the stack and return a sequence of hardware instructions. As you can see in the output of the above code snippet, the `Sequencer` created a sequence of two `EXECInstruction`s and a `STOPInstruction`. The two `EXECInstruction`s refer to waveforms obtained by sampling the atomic template objects `table_template` and `function_template` of which the `sequence_template` we've sequenced is composed.\n",
    "\n",
    "These waveforms are represented by objects of the `Waveform` class, which exposes a method `sample`, accepting an array of sample points in the time domain and returning an equally long array of sample values. The choice of the sample points passed into the `sample` method together with the sample rate of the playback device determine the duration of a time unit in a pulse template. For example, a pulse template with a length of 1 time unit that is sampled using 1000 equidistant sample points will play for 1 µs on a playback device with a sample rate of 1 GHz.\n",
    "\n",
    "After the sequencing process is complete, the instruction sequence will be passed to a hardware-dependent interpreter which will configure the corresponding device accordingly and perform the sampling of the waveform depending on the device's sample rate and typically a parameter indicating the real-time duration of a pulse template time unit.\n",
    "\n",
    "\n",
    "\n",
    "Note that the `plot` function internally employs sequencing and then simply plots the generated waveforms.\n",
    "\n",
    "## Side Note: Instructions\n",
    "\n",
    "The generated instruction sequence will consist of some of the following instructions:\n",
    "- EXECInstruction: execute a waveform\n",
    "- STOPInstruction: stop the execution\n",
    "- REPJInstruction: repeatedly jumps to an instruction in the instruction sequence for a fixed number of times\n",
    "- JUMPInstruction: jump to some instruction in the instruction sequence based on some trigger/condition\n",
    "- GOTOInstruction: go to some instruction in the instruction sequence\n",
    "\n",
    "The latter two will only be generated when hardware-based conditional branching is used in `LoopPulseTemplate` and `BranchPulseTemplate`. This was the main motivator for the usage of such an instruction sequence rather than just compling one large waveform. The `REPJInstruction` results from the usage of the `RepetitionPulseTemplate`.\n",
    "Using only the `PulseTemplate`s discussed so far, only `EXECInstruction`s and a final `STOPInstruction` will be output by the `Sequencer`."
   ]
  },
  {
   "cell_type": "code",
   "execution_count": null,
   "metadata": {
    "collapsed": true
   },
   "outputs": [],
   "source": []
  }
 ],
 "metadata": {
  "kernelspec": {
   "display_name": "lab_master",
   "language": "python",
   "name": "lab_master"
  },
  "language_info": {
   "codemirror_mode": {
    "name": "ipython",
    "version": 3
   },
   "file_extension": ".py",
   "mimetype": "text/x-python",
   "name": "python",
   "nbconvert_exporter": "python",
   "pygments_lexer": "ipython3",
   "version": "3.5.3"
  }
 },
 "nbformat": 4,
 "nbformat_minor": 0
}
