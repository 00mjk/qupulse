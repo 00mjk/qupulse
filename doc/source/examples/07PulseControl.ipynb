{
 "cells": [
  {
   "cell_type": "markdown",
   "metadata": {},
   "source": [
    "# Pulse-Control Integration\n",
    "\n",
    "An example for the current state of the integration of the `qctoolkit` functionalities in the `special-measure.pulsecontrol` MATLAB framework is provided by the file `MATLAB/qctoolkitExample.m` in the code repository. It relies on the MATLAB function `convert_qctoolkit` that can be found in the same directory."
   ]
  }
 ],
 "metadata": {
  "kernelspec": {
   "display_name": "Python 3",
   "language": "python",
   "name": "python3"
  },
  "language_info": {
   "codemirror_mode": {
    "name": "ipython",
    "version": 3
   },
   "file_extension": ".py",
   "mimetype": "text/x-python",
   "name": "python",
   "nbconvert_exporter": "python",
   "pygments_lexer": "ipython3",
   "version": "3.5.1"
  }
 },
 "nbformat": 4,
 "nbformat_minor": 0
}
