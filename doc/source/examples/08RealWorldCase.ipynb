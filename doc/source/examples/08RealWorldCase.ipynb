{
 "cells": [
  {
   "cell_type": "markdown",
   "metadata": {},
   "source": [
    "# Gate Configuration - A Real Use Case"
   ]
  },
  {
   "cell_type": "markdown",
   "metadata": {
    "collapsed": true
   },
   "source": [
    "An example for a real use case of the qctoolkit is the search for and evaluation of parameters for pulses that represent quantum gate operations.\n",
    "\n",
    "## Description of the Experiment\n",
    "The experiment will typically involve a set of gate pulses $G_j, 0 \\leq j \\lt N_{Gates}$.\n",
    "\n",
    "The template for a gate pulse $G_j$ is a sequence of $\\epsilon_i, 0 \\leq i \\lt N_{G_j}$ voltage levels held for time $\\Delta t = 1$ ns as illustrated in the figure below (with $N_{G_j} = 7$).\n",
    "\n",
    "![Template of a gate pulse](img/gate_pulse_scheme.png)\n",
    "\n",
    "The experiment defines a number of sequences $S_k, 0 \\leq k \\lt N_{Sequences}$ of the $G_j$ as $$S_k = (G_{m_k(1)}, G_{m_k(2)}, \\dots,  G_{m_k(N_{S_k})})$$ where $N_{S_k}$ is the length of sequence $k$ and $m_k(i): \\{0, \\dots, N_{S_k} - 1\\} \\rightarrow \\{0, \\dots, N_{Gates} - 1\\}$ is a function that maps an index $i$ to the $m_k(i)$-th gate of sequence $S_k$ and thus fully describes the sequence. (These sequences express the sequential application of the gates to the qubit. In terms of quantum mathematics they may rather be expressed as multiplication of the matrices describing the unitary transformations applied by the gates: $S_k = \\prod_{i=N_{S_k} - 1}^{0} G_{m_k(i)} = G_{(N_{S_k} - 1)} \\cdot \\dots \\cdot G_{1} \\cdot G_{0}$.)\n",
    "\n",
    "Measuring and analysing the effects of these sequences on the qubit's state to derive parameters $\\epsilon_i$ for gate pulses that achieve certain state transformations is the goal of the experiment.\n",
    "\n",
    "To this end, every sequence must be extended by some preceeding initialization pulse and a succeeding measurement pulse. Furthermore, due to hardware constraints in measuring, all sequences must be of equal length (which is typically 4 µs). Thus, some sequences require some wait time before initialization to increase their playback duration. These requirements give raise to extended sequences $S_k'$ of the form:\n",
    "$$S_k' = I_{p(k)} | W_k | S_k | M_{q(k)}$$\n",
    "where the functions $p(k)$ and $q(k)$ respectively select some initialization pulse $I_{p(k)} \\in \\{I_1, I_2, \\dots\\}$ and measurement pulse $M_{q(k)} \\in \\{M_1, M_2, \\dots\\}$ for sequence $k$ and $W_k$ is the aforementioned wait pulse. The '|' denote concatenation of pulses, i.e., sequential execution.\n",
    "\n",
    "Since measurement of quantum state is a probabilistic process, many measurements of the effect of a single sequence must be made to reconstruct the resulting state of the qubit. Thus, the experiment at last defines scanlines (typically of duration 1 second), which are sequences of the $S_k'$. (These simply represent batches of sequences to configure playback and measurement systems and have no meaning to the experiment beyond these practical considerations.)"
   ]
  },
  {
   "cell_type": "markdown",
   "metadata": {},
   "source": [
    "## Implementation Using the qctoolkit\n",
    "\n",
    "We now want to illustrate how to setup the experiment described above using the qctoolkit. Let us assume the experiment considers only two different gates pulses ($N_{Gates} = 2$). We further assume that $N_{G_1} = 20$ and $N_{G_2} = 18$. We define them using instances of `TablePulseTemplate`:"
   ]
  },
  {
   "cell_type": "code",
   "execution_count": 2,
   "metadata": {
    "collapsed": false
   },
   "outputs": [],
   "source": [
    "from qctoolkit.pulses import TablePulseTemplate\n",
    "\n",
    "delta_t = 1 # assuming that delta_t is 1 elementary time unit long in pulse defintions, i.e. 1 time unit = 1 ns\n",
    "\n",
    "gate_0 = TablePulseTemplate()\n",
    "for i in range(0, 19):\n",
    "    gate_0.add_entry((i) * delta_t, 'gate_0_eps_' + str(i))\n",
    "    \n",
    "gate_1 = TablePulseTemplate()\n",
    "for i in range(0, 17):\n",
    "    gate_1.add_entry((i) * delta_t, 'gate_1_eps_' + str(i))\n",
    "    \n",
    "gates = [gate_0, gate_1]"
   ]
  },
  {
   "cell_type": "markdown",
   "metadata": {},
   "source": [
    "We thus obtain two `TablePulseTemplate` of the desired form with parameters 'gate_1_eps_1' to 'gate_1_eps_20' and 'gate_2_eps_1' to 'gate_2_eps_18'.\n",
    "\n",
    "Next, we will define sequences as `SequncePulseTemplate` objects. We assume that the mapping functions $m_k$ are given as a 2 dimensional array (which impilicitly also defines $N_{Sequences}$ and $N_{S_k}$), e.g.:"
   ]
  },
  {
   "cell_type": "code",
   "execution_count": 3,
   "metadata": {
    "collapsed": true
   },
   "outputs": [],
   "source": [
    "m = [\n",
    "      [0, 1, 0, 0, 0, 1, 1, 0, 1], # m_0(i)\n",
    "      [1, 1, 0, 0, 1, 0], # m_1(i)\n",
    "      [1, 0, 0, 1, 1, 0, 0, 1] #m_2(i)\n",
    "    ]"
   ]
  },
  {
   "cell_type": "markdown",
   "metadata": {},
   "source": [
    "The `SequencePulseTemplate` objects can now easily be constructed:"
   ]
  },
  {
   "cell_type": "code",
   "execution_count": 4,
   "metadata": {
    "collapsed": false
   },
   "outputs": [],
   "source": [
    "from qctoolkit.pulses import SequencePulseTemplate\n",
    "\n",
    "# SequencePulseTemplate requires a definition of parameter mappings from parameters passed into the\n",
    "# SequencePulseTemplate object to its subtemplates. In this case, we want parameters to map 1 to 1\n",
    "# and thus create an identity mapping of parameter names for both gates using python list/set/dict comprehension\n",
    "epsilon_mappings = [\n",
    "    {param_name: param_name for param_name in gates[0].parameter_names},\n",
    "    {param_name: param_name for param_name in gates[1].parameter_names}\n",
    "]\n",
    "all_epsilons = gates[0].parameter_names | gates[1].parameter_names\n",
    "\n",
    "sequences = []\n",
    "for m_k in m:\n",
    "    subtemplates = []\n",
    "    for g_ki in m_k:\n",
    "        subtemplates.append((gates[g_ki], epsilon_mappings[g_ki]))\n",
    "    sequences.append(SequencePulseTemplate(subtemplates, all_epsilons))"
   ]
  },
  {
   "cell_type": "markdown",
   "metadata": {},
   "source": [
    "We end up with a list `sequences` which contains the sequences described by our $m$ as qctoolkit pulse templates.\n",
    "\n",
    "To visualize our progress, let us plot our two gates and the second sequence with some random values between $-5$ and $5$ for the $\\epsilon_i$:"
   ]
  },
  {
   "cell_type": "code",
   "execution_count": 17,
   "metadata": {
    "collapsed": false,
    "scrolled": false
   },
   "outputs": [
    {
     "name": "stderr",
     "output_type": "stream",
     "text": [
      "C:\\Anaconda3\\lib\\site-packages\\matplotlib\\figure.py:387: UserWarning: matplotlib is currently using a non-GUI backend, so cannot show the figure\n",
      "  \"matplotlib is currently using a non-GUI backend, \"\n"
     ]
    },
    {
     "data": {
      "image/png": "[encoded data removed]",
      "text/plain": [
       "<matplotlib.figure.Figure at 0x301e1278>"
      ]
     },
     "metadata": {},
     "output_type": "display_data"
    },
    {
     "data": {
      "image/png": "[encoded data removed]",
      "text/plain": [
       "<matplotlib.figure.Figure at 0x3022ae48>"
      ]
     },
     "metadata": {},
     "output_type": "display_data"
    },
    {
     "data": {
      "image/png": "[encoded data removed]",
      "text/plain": [
       "<matplotlib.figure.Figure at 0x30278ac8>"
      ]
     },
     "metadata": {},
     "output_type": "display_data"
    }
   ],
   "source": [
    "import random\n",
    "\n",
    "random.seed('Some seed such that numbers generated are predictable')\n",
    "parameters = {parameter_name: random.random() * 10 - 5 for parameter_name in all_epsilons}\n",
    "\n",
    "%matplotlib inline\n",
    "from qctoolkit.pulses import plot\n",
    "plot(gates[0], parameters)\n",
    "plot(gates[1], parameters)\n",
    "plot(sequences[1], parameters)"
   ]
  },
  {
   "cell_type": "markdown",
   "metadata": {},
   "source": [
    "We now must construct the $S_k'$. For simplicity, we assume that there is only one initialization and one measurement pulse which are defined somehow and define only stubs here. We also define a waiting pulse with a variable length:"
   ]
  },
  {
   "cell_type": "code",
   "execution_count": 6,
   "metadata": {
    "collapsed": true
   },
   "outputs": [],
   "source": [
    "# stub for an initialization pulse of length 4\n",
    "init = TablePulseTemplate()\n",
    "init.add_entry(0, 5)\n",
    "init.add_entry(4, 0, 'linear')\n",
    "\n",
    "# stub for a measurement pulse of length 12\n",
    "measure = TablePulseTemplate()\n",
    "measure.add_entry(0, 0)\n",
    "measure.add_entry(12, 5, 'linear')\n",
    "\n",
    "# a wating pulse\n",
    "wait = TablePulseTemplate()\n",
    "wait.add_entry('wait_duration', 0)"
   ]
  },
  {
   "cell_type": "markdown",
   "metadata": {},
   "source": [
    "For our example, let us assume that we want all $S_k'$ to take 200 ns (since we've chosen the $S_k$ to be rather short). We know that the duration of our gate pulses in nanoseconds is equal to the number of entries in the `TablePulseTemplate` objects (each voltage level is held for one unit of time in the tables which corresponds to $\\Delta t = 1$ ns). Accordingly, the init pulse lasts for 4 ns and the measure pulse for 12 ns. The required length of the wait pulse can then be computed as follows:"
   ]
  },
  {
   "cell_type": "code",
   "execution_count": 7,
   "metadata": {
    "collapsed": false
   },
   "outputs": [
    {
     "name": "stdout",
     "output_type": "stream",
     "text": [
      "[21, 76, 40]\n"
     ]
    }
   ],
   "source": [
    "wait_times = []\n",
    "desired_time = 200\n",
    "\n",
    "for m_k in m:\n",
    "    duration_k = 4 + 12 # init + measurement duration\n",
    "    for g_ki in m_k:\n",
    "        duration_k += len(gates[g_ki].entries) # add the number of entries of all gates in the sequence\n",
    "    wait_time_k = desired_time - duration_k\n",
    "    wait_times.append(wait_time_k)\n",
    "    \n",
    "print(wait_times)"
   ]
  },
  {
   "cell_type": "markdown",
   "metadata": {},
   "source": [
    "Finally we can construct the $S_k'$:"
   ]
  },
  {
   "cell_type": "code",
   "execution_count": 8,
   "metadata": {
    "collapsed": false
   },
   "outputs": [],
   "source": [
    "# an identity mapping for all epsilons\n",
    "all_epsilons_map = {param_name: param_name for param_name in all_epsilons}\n",
    "\n",
    "final_sequences = []\n",
    "for k in range(0, len(sequences)):\n",
    "    \n",
    "    #prepare the subtemplate of the sequence S_k'\n",
    "    subtemplates = []\n",
    "    \n",
    "    # include the wait pulse first. pass in the appropriate wait time.\n",
    "    # note that the wait time has to be cast to a string. In parameter mappings, some string containing a mathematical\n",
    "    # expression is expected. Here, we provide a mathematical expression consisting only of a constant value.\n",
    "    subtemplates.append((wait, {'wait_duration': str(wait_times[k])}))\n",
    "    \n",
    "    # append the init pulse\n",
    "    subtemplates.append((init, {}))\n",
    "    \n",
    "    # append the k-th sequence\n",
    "    subtemplates.append((sequences[k], all_epsilons_map))\n",
    "    \n",
    "    # append the measuring\n",
    "    subtemplates.append((measure, {}))\n",
    "    \n",
    "    # construct the object for S_k'\n",
    "    s_k_prime = SequencePulseTemplate(subtemplates, all_epsilons)\n",
    "    final_sequences.append(s_k_prime)"
   ]
  },
  {
   "cell_type": "markdown",
   "metadata": {},
   "source": [
    "Let us plot $S_1'$ to see what whether we've accomplished our goal:"
   ]
  },
  {
   "cell_type": "code",
   "execution_count": 9,
   "metadata": {
    "collapsed": false
   },
   "outputs": [
    {
     "name": "stderr",
     "output_type": "stream",
     "text": [
      "C:\\Anaconda3\\lib\\site-packages\\matplotlib\\figure.py:387: UserWarning: matplotlib is currently using a non-GUI backend, so cannot show the figure\n",
      "  \"matplotlib is currently using a non-GUI backend, \"\n"
     ]
    },
    {
     "data": {
      "image/png": "[encoded data removed]",
      "text/plain": [
       "<matplotlib.figure.Figure at 0x75d33c8>"
      ]
     },
     "metadata": {},
     "output_type": "display_data"
    }
   ],
   "source": [
    "plot(final_sequences[1], parameters)"
   ]
  },
  {
   "cell_type": "markdown",
   "metadata": {},
   "source": [
    "Finally, we construct a single scanline which just repeats all three sequences over and over again. Since our $S_k'$ are short, we just build a scanline with a duration of 0.6 microseconds. With a duration for each $S_k'$ of 200 ns, we can fit 1'000 repetitions of $S_1' | S_2' | S_3'$ in our scanline. "
   ]
  },
  {
   "cell_type": "code",
   "execution_count": 10,
   "metadata": {
    "collapsed": false
   },
   "outputs": [],
   "source": [
    "from qctoolkit.pulses import Sequencer\n",
    "\n",
    "subtemplates = []\n",
    "for i in range(0, 1000):\n",
    "    subtemplates.append((final_sequences[0], all_epsilons_map))\n",
    "    subtemplates.append((final_sequences[1], all_epsilons_map))\n",
    "    subtemplates.append((final_sequences[2], all_epsilons_map))\n",
    "    \n",
    "scanline = SequencePulseTemplate(subtemplates, all_epsilons)"
   ]
  },
  {
   "cell_type": "code",
   "execution_count": null,
   "metadata": {
    "collapsed": true
   },
   "outputs": [],
   "source": []
  }
 ],
 "metadata": {
  "kernelspec": {
   "display_name": "Python 3",
   "language": "python",
   "name": "python3"
  },
  "language_info": {
   "codemirror_mode": {
    "name": "ipython",
    "version": 3
   },
   "file_extension": ".py",
   "mimetype": "text/x-python",
   "name": "python",
   "nbconvert_exporter": "python",
   "pygments_lexer": "ipython3",
   "version": "3.4.4"
  }
 },
 "nbformat": 4,
 "nbformat_minor": 0
}
