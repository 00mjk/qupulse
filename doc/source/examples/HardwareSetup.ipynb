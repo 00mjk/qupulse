{
 "cells": [
  {
   "cell_type": "markdown",
   "metadata": {
    "collapsed": true
   },
   "source": [
    ""
   ]
  },
  {
   "cell_type": "code",
   "execution_count": null,
   "metadata": {},
   "outputs": [],
   "source": [
    "from qctoolkit.hardware.setup import HardwareSetup, PlaybackChannel, MarkerChannel\n",
    "hardware_setup = HardwareSetup()"
   ]
  },
  {
   "cell_type": "code",
   "execution_count": 4,
   "metadata": {},
   "outputs": [
    {
     "name": "stdout",
     "output_type": "stream",
     "text": [
      "Failed to open \"USB0::0x168C::0x2184::0000216488::INSTR\"\n(<class 'pyvisa.errors.VisaIOError'>, VisaIOError('VI_ERROR_RSRC_NFOUND (-1073807343): Insufficient location information or the requested device or resource is not present in the system.',), <traceback object at 0x0000018F5D498CC8>)\n"
     ]
    },
    {
     "ename": "AttributeError",
     "evalue": "'NoneType' object has no attribute 'write'",
     "traceback": [
      "\u001b[1;31m---------------------------------------------------------------------------\u001b[0m",
      "\u001b[1;31mAttributeError\u001b[0m                            Traceback (most recent call last)",
      "\u001b[1;32m<ipython-input-4-cdcb64ed03cb>\u001b[0m in \u001b[0;36m<module>\u001b[1;34m()\u001b[0m\n\u001b[0;32m      4\u001b[0m \u001b[1;33m\u001b[0m\u001b[0m\n\u001b[0;32m      5\u001b[0m \u001b[1;31m# small wrapper around pytabor\u001b[0m\u001b[1;33m\u001b[0m\u001b[1;33m\u001b[0m\u001b[0m\n\u001b[1;32m----> 6\u001b[1;33m \u001b[0mtawg\u001b[0m \u001b[1;33m=\u001b[0m \u001b[0mTaborAWGRepresentation\u001b[0m\u001b[1;33m(\u001b[0m\u001b[1;34mr'USB0::0x168C::0x2184::0000216488::INSTR'\u001b[0m\u001b[1;33m,\u001b[0m \u001b[0mreset\u001b[0m\u001b[1;33m=\u001b[0m\u001b[1;32mTrue\u001b[0m\u001b[1;33m)\u001b[0m\u001b[1;33m\u001b[0m\u001b[0m\n\u001b[0m\u001b[0;32m      7\u001b[0m \u001b[0mtawg\u001b[0m\u001b[1;33m.\u001b[0m\u001b[0mparanoia_level\u001b[0m \u001b[1;33m=\u001b[0m \u001b[1;36m2\u001b[0m\u001b[1;33m\u001b[0m\u001b[0m\n\u001b[0;32m      8\u001b[0m \u001b[1;33m\u001b[0m\u001b[0m\n",
      "\u001b[1;32mc:\\users\\lablocal\\documents\\code\\qc-toolkit\\qctoolkit\\hardware\\awgs\\tabor.py\u001b[0m in \u001b[0;36m__init__\u001b[1;34m(self, external_trigger, reset, *args, **kwargs)\u001b[0m\n\u001b[0;32m    311\u001b[0m \u001b[1;33m\u001b[0m\u001b[0m\n\u001b[0;32m    312\u001b[0m         \u001b[1;32mif\u001b[0m \u001b[0mreset\u001b[0m\u001b[1;33m:\u001b[0m\u001b[1;33m\u001b[0m\u001b[0m\n\u001b[1;32m--> 313\u001b[1;33m             \u001b[0mself\u001b[0m\u001b[1;33m.\u001b[0m\u001b[0mvisa_inst\u001b[0m\u001b[1;33m.\u001b[0m\u001b[0mwrite\u001b[0m\u001b[1;33m(\u001b[0m\u001b[1;34m':RES'\u001b[0m\u001b[1;33m)\u001b[0m\u001b[1;33m\u001b[0m\u001b[0m\n\u001b[0m\u001b[0;32m    314\u001b[0m \u001b[1;33m\u001b[0m\u001b[0m\n\u001b[0;32m    315\u001b[0m         \u001b[1;32mif\u001b[0m \u001b[0mexternal_trigger\u001b[0m\u001b[1;33m:\u001b[0m\u001b[1;33m\u001b[0m\u001b[0m\n",
      "\u001b[1;31mAttributeError\u001b[0m: 'NoneType' object has no attribute 'write'"
     ],
     "output_type": "error"
    }
   ],
   "source": [
    "from qctoolkit.hardware.awgs.tabor import TaborChannelPair, TaborAWGRepresentation\n",
    "\n",
    "tabor_address = r'USB0::0x168C::0x2184::0000216488::INSTR'\n",
    "\n",
    "# small wrapper around pytabor\n",
    "tawg = TaborAWGRepresentation(r'USB0::0x168C::0x2184::0000216488::INSTR', reset=True)\n",
    "tawg.paranoia_level = 2\n",
    "\n",
    "# actual awg driver object\n",
    "tchannelpair = TaborChannelPair(tawg, (1, 2), 'TABOR_AB')"
   ]
  },
  {
   "cell_type": "code",
   "execution_count": null,
   "metadata": {},
   "outputs": [],
   "source": [
    "hardware_setup.set_channel('TABOR_A', PlaybackChannel(tchannelpair, 0))\n",
    "hardware_setup.set_channel('TABOR_B', PlaybackChannel(tchannelpair, 1))\n",
    "hardware_setup.set_channel('TABOR_A_MARKER', MarkerChannel(tchannelpair, 0))\n",
    "hardware_setup.set_channel('TABOR_B_MARKER', MarkerChannel(tchannelpair, 1))"
   ]
  },
  {
   "cell_type": "code",
   "execution_count": null,
   "metadata": {},
   "outputs": [
    {
     "ename": "ModuleNotFoundError",
     "evalue": "No module named 'atsaverage'",
     "traceback": [
      "\u001b[1;31m---------------------------------------------------------------------------\u001b[0m",
      "\u001b[1;31mModuleNotFoundError\u001b[0m                       Traceback (most recent call last)",
      "\u001b[1;32m<ipython-input-1-62fc79309561>\u001b[0m in \u001b[0;36m<module>\u001b[1;34m()\u001b[0m\n\u001b[1;32m----> 1\u001b[1;33m \u001b[1;32mimport\u001b[0m \u001b[0matsaverage\u001b[0m\u001b[1;33m\u001b[0m\u001b[0m\n\u001b[0m\u001b[0;32m      2\u001b[0m \u001b[1;32mimport\u001b[0m \u001b[0matsaverage\u001b[0m\u001b[1;33m.\u001b[0m\u001b[0matsaverage\u001b[0m\u001b[1;33m\u001b[0m\u001b[0m\n\u001b[0;32m      3\u001b[0m \u001b[0matsaverage\u001b[0m\u001b[1;33m.\u001b[0m\u001b[0matsaverage\u001b[0m\u001b[1;33m.\u001b[0m\u001b[0mLogger\u001b[0m\u001b[1;33m.\u001b[0m\u001b[0mlog_path\u001b[0m \u001b[1;33m=\u001b[0m \u001b[1;34mr'C:\\Users\\Public\\AtsAverageLog'\u001b[0m\u001b[1;33m\u001b[0m\u001b[0m\n\u001b[0;32m      4\u001b[0m \u001b[0matsaverage\u001b[0m\u001b[1;33m.\u001b[0m\u001b[0matsaverage\u001b[0m\u001b[1;33m.\u001b[0m\u001b[0mLogger\u001b[0m\u001b[1;33m.\u001b[0m\u001b[0mrotate_file\u001b[0m\u001b[1;33m(\u001b[0m\u001b[1;33m)\u001b[0m\u001b[1;33m\u001b[0m\u001b[0m\n",
      "\u001b[1;31mModuleNotFoundError\u001b[0m: No module named 'atsaverage'"
     ],
     "output_type": "error"
    }
   ],
   "source": [
    "import atsaverage\n",
    "import atsaverage.atsaverage\n",
    "atsaverage.atsaverage.Logger.log_path = r'C:\\Users\\Public\\AtsAverageLog'\n",
    "atsaverage.atsaverage.Logger.rotate_file()"
   ]
  },
  {
   "cell_type": "code",
   "execution_count": null,
   "metadata": {},
   "outputs": [],
   "source": [
    "import atsaverage.atsaverage\n",
    "atsaverage.atsaverage.Logger.log_path = r'C:\\Users\\Public\\AtsAverageLog'\n",
    "atsaverage.atsaverage.Logger.rotate_file()\n",
    "from qctoolkit.hardware.dacs.alazar import AlazarCard\n",
    "\n",
    "alazar = AlazarCard(atsaverage.core.getLocalCard(1, 1))\n",
    "\n",
    "# mask MyMask will be applied/refers to data from channel 0\n",
    "alazar.register_mask_for_channel('MyMask', 0)\n",
    "\n"
   ]
  },
  {
   "cell_type": "code",
   "execution_count": 3,
   "metadata": {},
   "outputs": [],
   "source": [
    "def get_alazar_config():\n",
    "    from atsaverage import alazar\n",
    "    from atsaverage.config import ScanlineConfiguration, CaptureClockConfiguration, EngineTriggerConfiguration,\\\n",
    "        TRIGInputConfiguration, InputConfiguration\n",
    "        \n",
    "    r = 2.5\n",
    "    rid = alazar.TriggerRangeID.etr_2V5\n",
    "\n",
    "    trig_level = int((r + 0.15) / (2*r) * 255)\n",
    "    assert 0 <= trig_level < 256\n",
    "\n",
    "    config = ScanlineConfiguration()\n",
    "    config.triggerInputConfiguration = TRIGInputConfiguration(triggerRange=rid)\n",
    "    config.triggerConfiguration = EngineTriggerConfiguration(triggerOperation=alazar.TriggerOperation.J,\n",
    "                                                             triggerEngine1=alazar.TriggerEngine.J,\n",
    "                                                             triggerSource1=alazar.TriggerSource.external,\n",
    "                                                             triggerSlope1=alazar.TriggerSlope.positive,\n",
    "                                                             triggerLevel1=trig_level,\n",
    "                                                             triggerEngine2=alazar.TriggerEngine.K,\n",
    "                                                             triggerSource2=alazar.TriggerSource.disable,\n",
    "                                                             triggerSlope2=alazar.TriggerSlope.positive,\n",
    "                                                             triggerLevel2=trig_level)\n",
    "    config.captureClockConfiguration = CaptureClockConfiguration(source=alazar.CaptureClockType.internal_clock,\n",
    "                                                                 samplerate=alazar.SampleRateID.rate_100MSPS)\n",
    "    config.inputConfiguration = 4*[InputConfiguration(input_range=alazar.InputRangeID.range_1_V)]\n",
    "    config.totalRecordSize = 0\n",
    "    config.aimedBufferSize = 10*config.aimedBufferSize\n",
    "\n",
    "    # is set automatically\n",
    "    assert config.totalRecordSize == 0\n",
    "    \n",
    "    return config"
   ]
  },
  {
   "cell_type": "code",
   "execution_count": null,
   "metadata": {},
   "outputs": [],
   "source": [
    "alazar.config = get_alazar_config()"
   ]
  }
 ],
 "metadata": {
  "kernelspec": {
   "display_name": "Python 2",
   "language": "python",
   "name": "python2"
  },
  "language_info": {
   "codemirror_mode": {
    "name": "ipython",
    "version": 2
   },
   "file_extension": ".py",
   "mimetype": "text/x-python",
   "name": "python",
   "nbconvert_exporter": "python",
   "pygments_lexer": "ipython2",
   "version": "2.7.6"
  }
 },
 "nbformat": 4,
 "nbformat_minor": 0
}
