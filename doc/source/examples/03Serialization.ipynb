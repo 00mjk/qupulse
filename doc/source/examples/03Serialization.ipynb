{
 "cells": [
  {
   "cell_type": "markdown",
   "metadata": {},
   "source": [
    "# Storing Pulse Templates: Serialization\n",
    "\n",
    "So far, we have constructed new pulse templates in code for each session (which were discarded afterwards). We now want to store them persistently in the file system to be able to reuse them in later sessions. For this, qctoolkit offers us serialization and deserialization using the `Serializer` and `StorageBackend` classes.\n",
    "\n",
    "## Serializing Atomic Templates\n",
    "### Storing"
   ]
  },
  {
   "cell_type": "code",
   "execution_count": 1,
   "metadata": {
    "collapsed": false
   },
   "outputs": [],
   "source": [
    "from qctoolkit.pulses import TablePulseTemplate\n",
    "from qctoolkit.serialization import Serializer, FilesystemBackend\n",
    "\n",
    "anonymous_table = TablePulseTemplate()\n",
    "anonymous_table.add_entry('ta', 'va', interpolation='hold')\n",
    "anonymous_table.add_entry('tb', 'vb', interpolation='linear')\n",
    "anonymous_table.add_entry('tend', 0, interpolation='jump')\n",
    "\n",
    "backend = FilesystemBackend(\"./serialized_pulses\")\n",
    "serializer = Serializer(backend)\n",
    "\n",
    "serializer.serialize(anonymous_table)"
   ]
  },
  {
   "cell_type": "markdown",
   "metadata": {},
   "source": [
    "Assuming that we, again, have the `TablePulseTemplate` from [Modelling a Simple TablePulseTemplate](00SimpleTablePulse.ipynb) we instantiate a `Serializer` object to store it. `Serializer` requires a `StorageBackend` instance which represents the actual data storage. We provide a `FilesystemBackend` instance which will store data in the directory `./serialized_pulses`. With this setup, storing the pulse template simply means invoking the `serialize` method of the `Serializer` instance and passing in our template. This will store a JSON representation of the object in the specified storage. Since we have not provided any file name, `Serializer` chooses the file name as [`main`](serialized_pulses/main).\n",
    "\n",
    "To specify a name, we can provide an identifier as an argument to the constructor of any pulse template:"
   ]
  },
  {
   "cell_type": "code",
   "execution_count": 2,
   "metadata": {
    "collapsed": false
   },
   "outputs": [],
   "source": [
    "identified_table = TablePulseTemplate(identifier='table_template')\n",
    "identified_table.add_entry('ta', 'va', interpolation='hold')\n",
    "identified_table.add_entry('tb', 'vb', interpolation='linear')\n",
    "identified_table.add_entry('tend', 0, interpolation='jump')\n",
    "\n",
    "serializer.serialize(identified_table)"
   ]
  },
  {
   "cell_type": "markdown",
   "metadata": {},
   "source": [
    "This will create a file named [`table_template`](serialized_pulses/table_template) with the same contents as above.\n",
    "\n",
    "### Loading\n",
    "\n",
    "To load a previously stored pulse template, we use the method `Serializer.deserialize` with the file name. The following code will load a very simple table pulse template which ramps from 0 to 20 over a duration of 4 units of time and which is stored under the name [`stored_template`](serialized_pulses/stored_template):"
   ]
  },
  {
   "cell_type": "code",
   "execution_count": 3,
   "metadata": {
    "collapsed": false
   },
   "outputs": [
    {
     "name": "stderr",
     "output_type": "stream",
     "text": [
      "C:\\Anaconda3\\lib\\site-packages\\matplotlib\\figure.py:387: UserWarning: matplotlib is currently using a non-GUI backend, so cannot show the figure\n",
      "  \"matplotlib is currently using a non-GUI backend, \"\n"
     ]
    },
    {
     "data": {
      "image/png": "[encoded data removed]",
      "text/plain": [
       "<matplotlib.figure.Figure at 0x4f5aef0>"
      ]
     },
     "metadata": {},
     "output_type": "display_data"
    }
   ],
   "source": [
    "loaded_template = serializer.deserialize('stored_template')\n",
    "\n",
    "%matplotlib inline\n",
    "from qctoolkit.pulses import plot\n",
    "\n",
    "plot(loaded_template, sample_rate=100)"
   ]
  },
  {
   "cell_type": "markdown",
   "metadata": {},
   "source": [
    "## Serializing Composite Templates\n",
    "\n",
    "Serializing atomic templates (`TablePulseTemplate` and `FunctionPulseTemplate`) is a straightforward task. However, when storing composite templates that refer to subtemplates, e.g., `SequencePulseTemplate`, one must decide whether to embed the subtemplates into the composite's serialization or to store them separately. The latter one will be preferred if the subtemplate is used in several composite templates. `Sequencer` will decide whether to store a subtemplate separately based on the fact whether or not it provides an identifier: Subtemplates without an identifier will be embedded."
   ]
  },
  {
   "cell_type": "code",
   "execution_count": 4,
   "metadata": {
    "collapsed": false
   },
   "outputs": [],
   "source": [
    "from qctoolkit.pulses import SequencePulseTemplate\n",
    "\n",
    "mapping = {\n",
    "    'ta': '1',\n",
    "    'tb': '2',\n",
    "    'va': '5',\n",
    "    'vb': '0',\n",
    "    'tend': '5'\n",
    "}\n",
    "sequence1 = SequencePulseTemplate([(anonymous_table, mapping)], {}, identifier='sequence_embedded')\n",
    "serializer.serialize(sequence1)\n",
    "\n",
    "sequence2 = SequencePulseTemplate([(identified_table, mapping)], {}, identifier='sequence_referenced')\n",
    "serializer.serialize(sequence2)"
   ]
  },
  {
   "cell_type": "markdown",
   "metadata": {},
   "source": [
    "The above code snippet creates two `SequencePulseTemplate`s consisting of only one table subtemplate (one of those defined above respectively). The `anonymous_table` is used in `sequence1`. Since it has no identifier, it is embedded in the serialization: [`sequence_embedded`](serialized_pulses/sequence_embedded).\n",
    "\n",
    "In contrast, the table subtemplate in `sequence2` has an identifier, so the serialization of `sequence2` will contain only a reference to the serialization of `identified_table`: [`sequence_referenced`](serialized_pulses/sequence_referenced). "
   ]
  },
  {
   "cell_type": "markdown",
   "metadata": {},
   "source": [
    "## Storage Backends\n",
    "\n",
    "So far, we have only used the `FilesystemBackend` to store pulse template directly in some folder. However, the abstraction of the `StorageBackend` theoretically allows us to implement other backends, e.g., a SQL database, without changing the `Serializer`.\n",
    "\n",
    "Additionally, the class `CachingBackend` can be used to decorate and add caching functionality to any other `StorageBackend` instance to speed up loading of frequently accessed templates as follows:"
   ]
  },
  {
   "cell_type": "code",
   "execution_count": 5,
   "metadata": {
    "collapsed": true
   },
   "outputs": [],
   "source": [
    "from qctoolkit.serialization import CachingBackend\n",
    "cached_serializer = Serializer(CachingBackend(FilesystemBackend(\"./serialized_pulses\")))"
   ]
  },
  {
   "cell_type": "code",
   "execution_count": null,
   "metadata": {
    "collapsed": true
   },
   "outputs": [],
   "source": []
  }
 ],
 "metadata": {
  "kernelspec": {
   "display_name": "Python 3",
   "language": "python",
   "name": "python3"
  },
  "language_info": {
   "codemirror_mode": {
    "name": "ipython",
    "version": 3
   },
   "file_extension": ".py",
   "mimetype": "text/x-python",
   "name": "python",
   "nbconvert_exporter": "python",
   "pygments_lexer": "ipython3",
   "version": "3.4.3"
  }
 },
 "nbformat": 4,
 "nbformat_minor": 0
}
