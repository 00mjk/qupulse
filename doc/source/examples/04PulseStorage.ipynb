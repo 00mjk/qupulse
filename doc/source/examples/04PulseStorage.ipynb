{
 "cells": [
  {
   "cell_type": "markdown",
   "metadata": {},
   "source": [
    "# Storing Pulse Templates: `PulseStorage` and Serialization\n",
    "\n",
    "So far, we have constructed new pulse templates in code for each session (which were discarded afterwards). We now want to store them persistently in the file system to be able to reuse them in later sessions. For this, qctoolkit offers us serialization and deserialization using the `PulseStorage` and `StorageBackend` classes.\n",
    "\n",
    "The pulse storage manages the (de-)serialization to JSON and requires a storage backend to persistently store the serialized data. This can for example be a `FilesystemBackend` or a `DictBackend`. Let us first use a `DictBackend` to inspect the serialized pulse.\n",
    "\n",
    "## Single Pulses\n",
    "First we will have a look at how to store pulses that do not contain other pulse templates. To store a pulse, __the pulse needs to have an identifier__. If you forgot to give the pulse an identifier one can use the `rename` method which returns a new pulse with the requested identifier.\n",
    "\n",
    "### Storing"
   ]
  },
  {
   "cell_type": "code",
   "execution_count": 1,
   "metadata": {},
   "outputs": [
    {
     "name": "stdout",
     "output_type": "stream",
     "text": [
      "{'my_pulse': '{\\n'\n",
      "             '    \"#identifier\": \"my_pulse\",\\n'\n",
      "             '    \"#type\": '\n",
      "             '\"qctoolkit.pulses.table_pulse_template.TablePulseTemplate\",\\n'\n",
      "             '    \"entries\": {\\n'\n",
      "             '        \"default\": [\\n'\n",
      "             '            [\\n'\n",
      "             '                \"t_begin\",\\n'\n",
      "             '                \"v_begin\",\\n'\n",
      "             '                \"hold\"\\n'\n",
      "             '            ],\\n'\n",
      "             '            [\\n'\n",
      "             '                \"t_end\",\\n'\n",
      "             '                \"v_end\",\\n'\n",
      "             '                \"linear\"\\n'\n",
      "             '            ]\\n'\n",
      "             '        ]\\n'\n",
      "             '    },\\n'\n",
      "             '    \"measurements\": [],\\n'\n",
      "             '    \"parameter_constraints\": []\\n'\n",
      "             '}'}\n"
     ]
    }
   ],
   "source": [
    "import pprint\n",
    "from qctoolkit.pulses import TablePT\n",
    "from qctoolkit.serialization import PulseStorage, DictBackend\n",
    "\n",
    "dict_backend = DictBackend()\n",
    "dict_pulse_storage = PulseStorage(dict_backend)\n",
    "\n",
    "table_pulse = TablePT({'default': [('t_begin', 'v_begin', 'hold'),\n",
    "                                   ('t_end', 'v_end', 'linear')]}, identifier='my_pulse')\n",
    "\n",
    "dict_pulse_storage['my_pulse'] = table_pulse\n",
    "\n",
    "pprint.pprint(dict_backend.storage)"
   ]
  },
  {
   "cell_type": "markdown",
   "metadata": {},
   "source": [
    "Now we want to store this in a file system we need to replace the `DictBackend` with a `FilesystemBackend`. The following code will create the file `'./serialized_pulses/my_pulse.json'`."
   ]
  },
  {
   "cell_type": "code",
   "execution_count": 2,
   "metadata": {},
   "outputs": [],
   "source": [
    "from qctoolkit.serialization import FilesystemBackend\n",
    "\n",
    "filesystem_backend = FilesystemBackend('./serialized_pulses')\n",
    "file_pulse_storage = PulseStorage(filesystem_backend)\n",
    "\n",
    "if 'my_pulse' in file_pulse_storage:\n",
    "    del file_pulse_storage['my_pulse']\n",
    "\n",
    "file_pulse_storage['my_pulse'] = table_pulse"
   ]
  },
  {
   "cell_type": "markdown",
   "metadata": {},
   "source": [
    "### Loading\n",
    "Now we will load a pulse that is shipped only as a JSON file. It is a single sine with frequency `omega`. Note that loading the same pulse multiple times will give you the same object."
   ]
  },
  {
   "cell_type": "code",
   "execution_count": 3,
   "metadata": {},
   "outputs": [
    {
     "name": "stdout",
     "output_type": "stream",
     "text": [
      "Loading the same pulse multiple times gives you the same object\n"
     ]
    },
    {
     "data": {
      "image/png": "iVBORw0KGgoAAAANSUhEUgAAAZUAAAEWCAYAAACufwpNAAAABHNCSVQICAgIfAhkiAAAAAlwSFlzAAALEgAACxIB0t1+/AAAADl0RVh0U29mdHdhcmUAbWF0cGxvdGxpYiB2ZXJzaW9uIDIuMi4yLCBodHRwOi8vbWF0cGxvdGxpYi5vcmcvhp/UCwAAIABJREFUeJzt3XeYVOX5//H3DS4sTaSpKCBFQEGQsqCiEVARbGAhCtiILSSWmHxji4lRowmWRGMXlVhjCf6sgAo2LKCCShMQRJQVBERBkbYL9++Pc3YYlt1ldndmzszu53Vdc+0zZ86c85nDsPee9jzm7oiIiCRDjagDiIhI1aGiIiIiSaOiIiIiSaOiIiIiSaOiIiIiSaOiIiIiSaOiIlJJZuZmtm/UOcpiZm+Z2XlR55CqT0VFpBz0y1mkbCoqIhnCzHaJOoNIZamoSNYxsyVmdpmZzTKzn83sITPbw8wmmtlPZjbZzBqZ2Xgzu7jYe2eZ2Yk7WX4fM/vIzNaGP/uE028EfgHcZWbrzOyuuLcdZWYLzewHM7vbzCxueeeY2bzwtVfNbJ+419zMLjSzhcDCneRyM7vEzBab2XdmdouZ1Qhfu9bMHo+bt3U4/w6Fysz2NbO3w8/3nZk9HffafmY2ycy+N7MFZnZqWZlEilNRkWx1CjAA6ACcAEwE/gQ0JfheXwI8ApxR9AYzOxDYG5hQ2kLNrDEwHrgDaAL8CxhvZk3c/WrgHeAid6/v7hfFvfV4oBdwIHAqMDBc3olhrpOBZuH7nyy22hOBg4BOCXzuk4A8oAcwBDgngfcU9zfgNaAR0AK4M8xaD5gE/BfYHRgO3GNmnSuwDqmmVFQkW93p7ivc/RuCX9QfuPsn7r4JeA7oDrwAtDez9uF7zgSedvfNZSz3OGChuz/m7oXu/iQwn6BwlWW0u69x96+BN4Fu4fRfA/9w93nuXgj8HegWv7cSvv69u29I4HPfFM77NXA7wS/+8ioA9gH2cveN7v5uOP14YIm7/yf87B8DzwJDK7AOqaZUVCRbrYhrbyjhef2wwDwDnBEeJhoOPLaT5e4FfFVs2lcEezhl+TauvR6oH7b3Af5tZmvMbA3wPWDFlrd0J8uOFz/vV2He8ro8zPChmc01s6K9nX2Ag4qyhnlPB/aswDqkmtKJQanqHiEoJO8C69196k7mX0bwyzVeK+CVsF3ebr2XAje6+xNlzFOeZbYE5sblWha2fwbqxs1XaiFw92+B8wHM7DBgsplNCbO+7e4DypFHZDvaU5EqLSwiW4F/svO9FAjOt3QwsxFmtouZnUZwruPl8PUVQNtyRLgPuKrovISZNTSzX5bj/cVdFl6E0BL4HVB0kv1T4HAza2VmDYGrSluAmf3SzFqET38gKGpbCD5jBzM708xywkcvM9u/EnmlmlFRkergUaAL8PjOZnT31QTnFv4PWE1wqOh4d/8unOXfwNDwSq47Eljec8BNwFNm9iMwBzimQp8i8AIwg6CIjAceCtcziaDAzApff7m0BRBcUPCBma0DXgR+5+5fuvtPwNHAMII9oG/D7LUrkVeqGdMgXVLVmdlZwAXufljUWSrDzBxo7+6Los4iUhrtqUiVZmZ1gd8CY6LOIlIdRFpUzGysma00szmlvN4vvEHr0/BxTbozSvYys4HAKoLzIP+Nm/6L8ObFHR6Rhc3gXCLlEenhLzM7HFgHPOruB5Twej/gj+5+fLqziYhI+UW6p+LuUwiu2xcRkSogG+5TOcTMZhJcjfJHd59b0kxmdgFwAUC9evV67rfffmmMKCKS3WbMmPGduzer7HIyvah8DOzj7uvM7FjgeaB9STO6+xjCk7F5eXk+ffr09KUUEclyZla8J4kKyeirv9z9R3dfF7YnADlm1jTiWCIiUoqMLipmtmdRF+Jm1psg7+poU4mISGkiPfxlZk8C/YCmZpYP/BXIAXD3+wh6R/2NmRUSdBI4zHW3pohIxoq0qLh7md12u/tdwF1lzSMi6VNQUEB+fj4bN26MOopUUG5uLi1atCAnJycly8/0E/UikkHy8/Np0KABrVu3Jm5wS8kS7s7q1avJz8+nTZs2KVlHRp9TEZHMsnHjRpo0aaKCkqXMjCZNmqR0T1NFRUTKRQUlu6X6309FRUREkkZFRUSy3siRIxk3blwk616yZAkHHLBD14U7SCTj/Pnz6datG927d+eLL74od5Zrr72WW2+9FYCHH36YZcuW7eQdyaeiIiKSIZ5//nmGDBnCJ598Qrt27Sq1LBUVEZEEPProo3Tt2pUDDzyQM888MzZ9ypQp9OnTh7Zt28b2CNatW8eRRx5Jjx496NKlCy+88AIQ7F3sv//+nH/++XTu3Jmjjz6aDRs2ANCvXz+uuOIKevfuTYcOHXjnnXcA2LJlC5dddhm9evWia9eu3H///WXmdHcuuugiOnXqxHHHHcfKlStjr82YMYO+ffvSs2dPBg4cyPLly5kwYQK33347Dz74IP379wfgxBNPpGfPnnTu3JkxY7YNCVS/fv1Ye9y4cYwcOXK7dY8bN47p06dz+umn061bt9hnSwddUiwiFXLdS3P5bNmPSV1mp7125a8ndC719blz53LjjTfy3nvv0bRpU77/flsn58uXL+fdd99l/vz5DB48mKFDh5Kbm8tzzz3HrrvuynfffcfBBx/M4MGDAVi4cCFPPvkkDzzwAKeeeirPPvssZ5xxBgCFhYV8+OGHTJgwgeuuu47Jkyfz0EMP0bBhQz766CM2bdrEoYceytFHH13qie/nnnuOBQsWMHv2bFasWEGnTp0455xzKCgo4OKLL+aFF16gWbNmPP3001x99dWMHTuWUaNGUb9+ff74xz8CMHbsWBo3bsyGDRvo1asXp5xyCk2aNNnpdhw6dCh33XUXt956K3l5eQlv/2RQURGRrPHGG28wdOhQmjYNugBs3Lhx7LUTTzyRGjVq0KlTJ1asWAEEewt/+tOfmDJlCjVq1OCbb76JvdamTRu6desGQM+ePVmyZElsWSeffPIO01977TVmzZoV2wtau3YtCxcupEOHDiVmnTJlCsOHD6dmzZrstddeHHHEEQAsWLCAOXPmMGDAACDYA2revHmJy7jjjjt47rnnAFi6dCkLFy5MqKhESUVFRCqkrD2KVHH3UvcMateuvd18AE888QSrVq1ixowZ5OTk0Lp169g9GvHz16xZc7tDREWv1axZk8LCwtgy77zzTgYOHLjdeuOLUXElZXV3OnfuzNSpU8v6qLz11ltMnjyZqVOnUrduXfr16xfLHr/cTOvdQOdURCRrHHnkkTzzzDOsXh30Kxt/+Kska9euZffddycnJ4c333yTr76qeO/uAwcO5N5776WgoACAzz//nJ9//rnU+Q8//HCeeuoptmzZwvLly3nzzTcB6NixI6tWrYoVlYKCAubO3XGYqLVr19KoUSPq1q3L/PnzmTZtWuy1PfbYg3nz5rF169bYnkxxDRo04Keffqrw560o7amISNbo3LkzV199NX379qVmzZp0796dhx9+uNT5Tz/9dE444QTy8vLo1q0blRm877zzzmPJkiX06NEDd6dZs2Y8//zzpc5/0kkn8cYbb9ClSxc6dOhA3759AahVqxbjxo3jkksuYe3atRQWFnLppZfSufP2e36DBg3ivvvuo2vXrnTs2JGDDz449tro0aM5/vjjadmyJQcccADr1q3bYf0jR45k1KhR1KlTh6lTp1KnTp0Kf/byiHSM+lTRIF0iqTFv3jz233//qGNIJZX072hmM9y90mf1dfhLRESSRkVFRESSRkVFRMqlKh4yr05S/e+noiIiCcvNzWX16tUqLFmqaDyV3NzclK1DV3+JSMJatGhBfn4+q1atijqKVFDRyI+poqIiIgnLyclJ2YiBUjXo8JeIiCSNioqIiCSNioqIiCSNioqIiCSNioqIiCSNioqIiCSNioqIiCSNioqIiCRNpEXFzMaa2Uozm1PK62Zmd5jZIjObZWY90p1RREQSF/WeysPAoDJePwZoHz4uAO5NQyYREamgSIuKu08ByhoPdAjwqAemAbuZWfP0pJNssKlwC9+s2cDS79ezdkNB1HFEqr1M7/trb2Bp3PP8cNryaOJIJpi5dA1/e/kz5ixby8aCrTu8vvdudRjWqyUX9t+XGjUsgoQi1VemF5WSfiOU2Oe2mV1AcIiMVq1apTKTRGTRyp/45X1T+WH9tj2S/h2bcXDbJmxxZ+GKdUz9YjXfrNnAPyd9zj8nfc5lAztyYf99I0wtUr1kelHJB1rGPW8BLCtpRncfA4yBYIz61EeTdGp95fhYu0m9Wtx7Rk96t2lc4rzrNxdy+bhZvDxrObe8uoBbXl3AG//Xl7bN6qcrrki1FfWJ+p15ETgrvArsYGCtu+vQVzWyuXDrdgXl7hE9mPGXAaUWFIC6tXbhrhE9mH3t0bFpR/zzbe5964uUZhWR6C8pfhKYCnQ0s3wzO9fMRpnZqHCWCcBiYBHwAPDbiKJKBH7cWECHP0+MPZ997dEc1zXx6zQa5OawZPRxtGtWD4CbXpnPZf+bmfScIrKNVcVhQfPy8nz69OlRx5BK+HlTIZ3/+mrs+Zf/OBazip90v+XV+dz9ZrCnMuKgVvz9pC6VzihSlZjZDHfPq+xyMv3wl1RDW7b6dgVlyejjKlVQAC4buB9/PaETAP/94GsefGdxpZYnIiVTUZGM0+5PE2LtJaOPS9pyf3VoG353ZHsAbhg/jznfrE3askUkoKIiGeXQ0W/E2ov/fmzSl//7AR04vEMzAI6/8102F+54n4uIVJyKimSMx6d9xTdrNgDw8V8GpOzGxUfP6R1rx18IICKVp6IiGeHnTYX8+fmgX9Fbhnalcb1aKV3fl//Ythf0m8dnpHRdItWJiopkhKIT880b5vLLvJY7mbvyzIy3/tgPgIlzvmXJdz+nfJ0i1YGKikTuxvGfxdpTrzoybett3bQeQ7rtBUC/W99K23pFqjIVFYnU+s2FPPDOlwBM/N0v0r7+fw/rHmtf+MTHaV+/SFWjoiKR6nRNcNirXbN67N9810gyfPCnYO9o/OzlrF2v7vNFKkNFRSLz5vyVsfbkP/SNLMceu+ZySNsmABx4/WuR5RCpClRUJDK/evgjAP49rFul75ivrP+ef1Cs/fq8FREmEcluKioSiT8/PzvWHtJt7wiTBMyMu0YE51fOfUT9xolUlIqKpN2Wrc7j074G4P0rj4g4zTbHd90r1h49cX6ESUSyl4qKpN0Jd74LBINt7bVbnYjTbG/KZf0BuO/tL6iKPXiLpJqKiqTV+s2FfLb8RwDey6C9lCKtmtRll7B7GB0GEyk/FRVJq8NuehOAQ9o2ITenZsRpSvbxNQMAeGP+Sgq3qMNJkfJQUZG0Wbu+gO9/3gzAE+cdtJO5o7Nrbg6tGtcF4NT7p0acRiS7qKhI2hx2U9Ct/XFdmqesB+Jkee33hwPw8ddrKNDeikjCVFQkLdZuKOCnTYUAsUt3M1luTk067tEAgOFjpkWcRiR7qKhIWgz419sAHN+1eeQ3OibqxYsPBWD6Vz+wdauuBBNJhIqKpNzGgi2s/GkTAHcOz/y9lCK1d6lJm6b1ALjgMY25IpIIFRVJuaH3vQ/AL9o3zZq9lCLjLzkMgMnzVui+FZEEqKhISm3Z6sz5JrgvZezIXhGnKb+6tXZht7o5ANwwfl7EaUQyn4qKpNSlT38KQPvd65NTMzu/bkU9KD/07pcRJxHJfNn5v1yyxkszlwHw/37bJ+IkFde0fu1Y+9kZ+REmEcl8KiqSMkV/2deqWYMGuTkRp6mcCZcEo1L+3/9mRpxEJLOpqEjK/O3lYOz5iZemf5jgZOu017ZRKed8szbCJCKZTUVFUuLjr3+Itds1qx9hkuS57bQDATjhrncjTiKSuSItKmY2yMwWmNkiM7uyhNdHmtkqM/s0fJwXRU4pv5PvCS4jvuf0HhEnSZ6TurcAwB3Whb0DiMj2IisqZlYTuBs4BugEDDezTiXM+rS7dwsfD6Y1pFTI2g0FsfaxXZpHmCT5TukRFJaRYz+MOIlIZopyT6U3sMjdF7v7ZuApYEiEeSRJzgp/4Q7v3SriJMl389CuQNB1i26GFNlRlEVlb2Bp3PP8cFpxp5jZLDMbZ2YtS1uYmV1gZtPNbPqqVauSnVUS5O7MXLoGgL8N6RxxmuSrWcNo1iC4xFj3rYjsKMqiUlJ/HcX/9HsJaO3uXYHJwCOlLczdx7h7nrvnNWvWLIkxpTzue3sxAHvvVoddsvRmx515/sKgo0ndYS+yoyj/1+cD8XseLYBl8TO4+2p33xQ+fQDomaZsUkE3vTIfgCfPPzjiJKmz9251Yu0vVq2LMIlI5omyqHwEtDezNmZWCxgGvBg/g5nFn+UdDOhPwwy2aOVPsXarJnUjTJJ6N53SBYBT7n0/4iQimSWyouLuhcBFwKsExeIZd59rZteb2eBwtkvMbK6ZzQQuAUZGk1YSMeKBD4CqeS6luNN6BRchrFlfwBaNtSISE+lBb3ef4O4d3L2du98YTrvG3V8M21e5e2d3P9Dd+7v7/CjzSum2bPXYmClnHtI62jBpclCbxgBc99LciJOIZI6qeSZV0q7oXEr3VrtFnCR9xpyVB8CjU7+KOIlI5lBRkaQYMyW46uuhs7NvzJSKalhnWyeZ6g9MJKCiIpU2b/mPsXbjerUiTJJ+d48IuqEZ8cC0iJOIZAYVFam0cx/+CICbT+kacZL0O65rcIHijxsLdcJeBBUVqaStW51lazcCcGqvUjs8qNIObhucsB89UVe8i6ioSKXc/vpCALq1rD4n6Iu79/TgntwH3lG3LSIqKlIpd4RF5b4zqm9nB43iziN9+d3PESYRiZ6KilTYsjUbYu09G+ZGmCR6fz8puMP+nPD8kkh1paIiFXb+o9MBuGLQfhEnid7w3sH5pC+/+1ld4ku1pqIiFTZ3WXAp8a8PbxtxkuiZGW2b1gPg8Q++jjiNSHRUVKRCXpoZdCi956651KhR0igG1c/YkcGNn395fk7ESUSio6IiFXLxk58A8ODZeREnyRytwz0VgB83FpQxp0jVpaIi5bZh85ZY+4C9G0aYJPOcdcg+APzh6ZkRJxGJhoqKlNu1Lwa98g4+cK+Ik2SevxzfCYDJ81ZEnEQkGjstKmZW18z+YmYPhM/bm9nxqY8mmerp6UsBGB0OVCXb5NSsQa1wGOVPvv4h4jQi6ZfInsp/gE3AIeHzfOCGlCWSjLZwxbbRHevW2iXCJJnrrhHdATjvkekRJxFJv0SKSjt3vxkoAHD3DYAu96mmRj0+A4DRJ2svpTRHd94TgNU/b2arOpmUaiaRorLZzOoADmBm7Qj2XKSacXe+WBV0Q3JaNe08MlFdwgsYxr6n/sCkekmkqPwVeAVoaWZPAK8Dl6c0lWSkFz4N7k1p07QeZtpZLct9ZwZ9od0wXj0XS/Wy04Pi7j7JzD4GDiY47PU7d/8u5ckk41z69KcA3HN6j4iTZL69d6sTa/+4sYBdc3PKmFuk6kjk6q8ewD7AcmAZ0MrM2pmZztJWIxsLtt2bsn/zXSNMkj1G9mkNwGX/0z0rUn0kcvjrHmAaMAZ4AJgKPAV8bmZHpzCbZJAbw8M4x3VpHnGS7HHVsUFHm6/O1T0rUn0kUlSWAN3dPc/dewLdgTnAUcDNKcwmGeSxaV8BcNPQ6jdkcEXV3qVmrD132doIk4ikTyJFZT93n1v0xN0/Iygyi1MXSzLJN3HjptSvraOe5XHH8OCelYv++0nESUTSI5GissDM7jWzvuHjHoJDX7UJ712Rqu23T3wMwJ+P2z/iJNmnqCsbjbMi1UUiRWUksAi4FPg9sDicVgD0T1UwyRwzl64B4JxD20ScJDu1axb0XjxuRn7ESURSb6dFxd03uPs/3f0kdz/R3W919/XuvtXd16UjpETnrQUrAWhUN0fjplTQ3eEl2JeNmxVxEpHUS+SS4vZmNs7MPjOzxUWPZKzczAaZ2QIzW2RmV5bwem0zezp8/QMza52M9Uriiu5Nuf9MjZtSUfvtue0S7PhLs0WqokQ7lLwXKCQ43PUo8FhlV2xmNYG7gWOATsBwM+tUbLZzgR/cfV/gNuCmyq5XErd1q7NmfXDarHebxhGnyW5F51ZGT5wfcRKR1EqkqNRx99cBc/ev3P1a4IgkrLs3sMjdF7v7ZoJ7X4YUm2cI8EjYHgccaeofJG3+8kIwLG6fdk0iTpL9/nbiAQA8/P6SaINUEes2FTJ8zDTenL8y6ihSTCJFZaOZ1QAWmtlFZnYSsHsS1r03sDTueX44rcR53L0QWAuU+BvOzC4ws+lmNn3VqlVJiCed92pIi0Z1uH1Yt6ijZL2GdbZ10xJ/ibZUzLMz8pm6eDXzvv0x6ihSTCJF5VKgLnAJ0BM4AzgrCesuaY+j+DWXicwTTHQfE96gmdesWbNKhxMYcVAr3r3iCHZvkBt1lCrhikHBHfaXPqV7Virrr+Hoo4PCYQYkcyRSVFq7+zp3z3f3X7n7KUCrJKw7H4jvP70FQd9iJc4T9jXWEPg+CesWSbtfH94WgI+WaETIyvh5U2Gs3bZZ/QiTSEkSKSpXJTitvD4C2ptZGzOrBQwDXiw2z4vA2WF7KPCG6w4yyVI1ahiN69UC4P1F6ui7oq5/6TMATsvTmD6ZqNSiYmbHmNmdwN5mdkfc42GCK8EqJTxHchHwKjAPeMbd55rZ9WY2OJztIaCJmS0C/gDscNmxSDa5Y1jQbUvRCJpSfk9PD07FXnNC8YtFJROU1ZHTMmAGMDj8WeQngjvrK83dJwATik27Jq69EfhlMtYlkgkOa98UgB83FrJlq1NTN5SWy5ff/Rxr11M/dBmp1H8Vd58JzDSzx8O9ChFJgp77NGLGVz9w/5Qv+G2/faOOk1Uu+m/QD931QzpHnERKU9bhr9lmNgv42MxmFX+kMaNIlXLXiOAQ2M2vLIg4SfaZuyy4hPjMg/eJOImUpqz9x+PTlkKkGmnecNtQw2vXF9CwroYaTsSrc78FgqGadQ905ip1TyW8e/4rd/8K2Ah0CR8bwmkiUkHnHhb0+PzHcRpqOFEXhkMw3Bnu6UlmSqRDyVOBDwlOmJ8KfGBmQ1MdTKQqu3xQRwAmfaahhhOxuXArhVuDuwl6tGoUcRopSyKXT1wN9HL3lQBm1gyYTNAXl4hUQPxQw7Py19C1xW4Rpsl8/3wtOP/Ur6N6y8h0idz8WKOooIRWJ/g+ESnD3SOCcVaKRtaU0t0/JRht47ZT1Q9dpkukOLxiZq+a2UgzGwmMp9i9JSJSfsd1bQ5A/g8bNNRwGZav3dYBZ6OwRwLJXGVdUnyXmfVx98uA+4GuwIHAGHe/Il0BRaqyTs2DAbzUJX7pfvN4sCd32cCOESeRRJS1p7IQ+KeZLQEOAh5199+7+3NpSSZSDRQNNXxd2J+V7OjTpWsAGNW3XcRJJBFlXVL8b3c/BOhL0DPwf8xsnpldY2Yd0pZQpApr07RerL12Q0GESTLT6/OCq+Ma1c1RlzZZYqfnVMJ7VW5y9+7ACOAkgg4gRSQJzj4kuDv8ct2zsoNfPxZ0O/jAWXkRJ5FEJXKfSo6ZnWBmTwATgc+BU1KeTKSauOrY/QF4da7uWYm3qXBL7N6UvNaNI04jiSrrRP0AMxtLMFDWBQRXfLVz99Pc/fl0BRSp6nJztt2zMn2JxqAr8vfxwQGRI/ZLxujlki5l7an8CZgK7O/uJ7j7E+7+cxnzi0gFFR3eOf/R6REnyRyPTA16g7p9mO5NySZldX3fP51BRKqzAZ32AOCH9QUaZwVYtPKnWHvXXHW4mU10Z7xIhujVOujT6l+T1CX++Y8GJ+hvOPGAiJNIeamoiGSIe07vCcDdb34RcZJouXtshMfTD2oVcRopLxUVkQzRrEHtWPur1dX39OVD734JQMc9GmjclCykoiKSQf58XHB58bmPVN8T9jeEV33p3pTspKIikkGKBu9atHJdtexkcuWPG2PtVk3qRphEKkpFRSSDmBn77l4fgAfeWRxxmvQ7+z8fAfCHAeoJKlupqIhkmLFn9wLg7xPmR5wkvdydect/BOCi/vtGnEYqSkVFJMPEH/bJ/2F9hEnS67Fpwc2Oe+9WhxrV/D6dbKaiIpKBrhi0HwBnjf0w4iTpc80LcwF47NzeESeRylBREclAo/q2BWDxqp+rxQn7+NEd2zarH2ESqSwVFZEMZGZ02CP45XrbpM8jTpN6w8ZMA+DyQRrdMdtFUlTMrLGZTTKzheHPRqXMt8XMPg0fL6Y7p0iUHj3nIADueGNRxElSy935anVw7ug3Gt0x60W1p3Il8Lq7twdeD5+XZIO7dwsfg9MXTyR6ezbMjbVn56+NMElqjZ4YXOW23566g74qiKqoDAEeCduPACdGlEMko9122oEAnHLf+xEnSZ37pwT34zx27kERJ5FkiKqo7OHuywHCn6WNwpNrZtPNbJqZlVl4zOyCcN7pq1atSnZekUic1L0FAJsLt7Jh85aI0yTfB4tXx9rxfZ9J9kpZUTGzyWY2p4THkHIsppW75wEjgNvNrNQDru4+xt3z3D2vWbNmlc4vkikGdd4TqJoDeJ0WnqBXP19VR6mDdFWWux9V2mtmtsLMmrv7cjNrDqwsZRnLwp+LzewtoDtQvfsFl2rnjuHd6fDniby76LuooyTVmvWbY+2iQcok+0V1+OtF4OywfTbwQvEZzKyRmdUO202BQ4HP0pZQJEPU2qUGu+YGf//d81bVuRLslHuD80RnHrxPxEkkmaIqKqOBAWa2EBgQPsfM8szswXCe/YHpZjYTeBMY7e4qKlItjb/kFwDc/ErVGBVy61bni1XBmDHXDe4ccRpJppQd/iqLu68Gjixh+nTgvLD9PtAlzdFEMlLLxtv6A3t/0Xf02bdphGkq7/JnZwHBZcTq56tq0R31IlniobODk9kjHvwg4iSVN25GPgDPjDok4iSSbCoqIlniyP23nczO5uGGi4YLBtg1NyfCJJIKKioiWeSqY4Lei/ve8la0QSrhby8Hp0bf/GO/aINISqioiGSRX8f1jRV/SW62eHXut7F2m6b1IkwiqaKiIpJlhvduCUD/W9+tqKmIAAAOIklEQVSKNkgF/PqxGQA8dcHBESeRVFFREckyfz8puCjyh/UFrNtUGHGaxL0Xd/PmwW2bRJhEUklFRSTLmFms65aj/vl2xGkSd3p41dqD6pKlSlNREclC95zeA4Bvf9yYFXsr78ftpRylLlmqNBUVkSxUo4bF+ss67KY3Ik6zc0X31ow5s2fESSTVVFREstT9ZwS/oNesL+CHnzP3SrBX5iyPtY8OD9tJ1aWiIpKlatQwhvYMxlvp/rdJEacp3ajHPwbgifM0CFd1oKIiksVuGdo11v58xU8RJinZ3W9u61X50Czvr0wSo6IiksXMjMsHdQTg6NumRJxme+7OLa8GvSpP+v3hEaeRdFFREclyv+23b6z9zPSlESbZ3mn3T4u12+/RIMIkkk4qKiJVQNEd6pePm4W7R5wG1q4v4MMl3wMw97qBEaeRdFJREakC4u9QPzkcUTFKB17/GgBH7Lc79WpHMmyTRERFRaSKKNoj+OTrNSxbsyGyHE9/9HWsPXZkr8hySDRUVESqiHq1d+HkHnsD0Gd0NDdEbtnqXPHsbAAe/pUKSnWkoiJShfzr1G6x9sVPfpL29bf704RYu1/H3dO+fomeiopIFfPO5f0BeGnmMpZ8l74RIv/z3rYRHb/4+7FpW69kFhUVkSqmZeO6HN+1OQD9bn0rLVeDrV1fwHUvBSM63ndGT2rWsJSvUzKTiopIFXTXiB6xdpurJpQxZ+W5e+xqr32a1GXQAerfqzpTURGpohbcMCjWvuDR6SlbT3zRevuy/ilbj2QHFRWRKqr2LjV5/sJDAXjtsxU8MGVx0tdx4t3vxdrzrh9UxpxSXaioiFRh3VruxmUDg77Bbpwwj+c+yU/asn/z+Aw+XboGgAmX/II6tWombdmSvVRURKq4C/vvGztx//unZ/Lo1CWVXuYZD37AxDnfAnDH8O502mvXSi9TqgYVFZFq4K4RPThyv+C+kWtemMt5j3xU4WW1vnI874bDA48+uQuDD9wrKRmlaoikqJjZL81srpltNbO8MuYbZGYLzGyRmV2ZzowiVc1DI3sxsk9rACbPW0nrK8dTuGVrwu//bt0mWl85Pvb84V/1YljvVsmOKVkuqj2VOcDJQKkDQJhZTeBu4BigEzDczDqlJ55I1XTt4M789/xtIzDue/VE7nh9YZn3smwq3MIfnvmUvBsmx6Z98pcBumNeShRJ96HuPg+CAYbK0BtY5O6Lw3mfAoYAn6U8oEgV1qddU778x7Fc8ewsnpmez78mfc6/Jn3OIW2bcFSnPdi/eQMKtziffL2GF2Z+w+JV2+7Kv2xgRy7sv28ZS5fqLpP7pN4biB9xKB/QINciSWBm3Dz0QP5yfCeufHY2E+csZ+ri1UxdvHqHeWsYnPeLtlwxaD/dKS87lbKiYmaTgZJurb3a3V9IZBElTCt1H93MLgAuAGjVSsd5RRLRIDeHu08P7r7/aWMBC1euY/majTSsk0OD3F3ouGcDcnN0qbAkLmVFxd2PquQi8oGWcc9bAMvKWN8YYAxAXl5e9EPfiWSZBrk59GjVCPQ3mVRCJl9S/BHQ3szamFktYBjwYsSZRESkDFFdUnySmeUDhwDjzezVcPpeZjYBwN0LgYuAV4F5wDPuPjeKvCIikpiorv56DniuhOnLgGPjnk8AUtvFqoiIJE0mH/4SEZEso6IiIiJJo6IiIiJJo6IiIiJJo6IiIiJJo6IiIiJJo6IiIiJJo6IiIiJJo6IiIiJJo6IiIiJJo6IiIiJJo6IiIiJJo6IiIiJJo6IiIiJJo6IiIiJJo6IiIiJJo6IiIiJJo6IiIiJJo6IiIiJJo6IiIiJJo6IiIiJJo6IiIiJJo6IiIiJJo6IiIiJJo6IiIiJJo6IiIiJJo6IiIiJJo6IiIiJJE0lRMbNfmtlcM9tqZnllzLfEzGab2admNj2dGUVEpPx2iWi9c4CTgfsTmLe/u3+X4jwiIpIEkRQVd58HYGZRrF5ERFIkqj2VRDnwmpk5cL+7jyltRjO7ALggfLrJzOakI2AlNAWyYQ9MOZNLOZNLOZOnYzIWkrKiYmaTgT1LeOlqd38hwcUc6u7LzGx3YJKZzXf3KSXNGBacMeG6p7t7qedqMkE2ZATlTDblTC7lTJ5knbdOWVFx96OSsIxl4c+VZvYc0BsosaiIiEj0MvaSYjOrZ2YNitrA0QQn+EVEJENFdUnxSWaWDxwCjDezV8Ppe5nZhHC2PYB3zWwm8CEw3t1fSXAVpZ57ySDZkBGUM9mUM7mUM3mSktHcPRnLERERydzDXyIikn1UVEREJGmysqiYWWMzm2RmC8OfjUqZb0vYxcunZvZi3PQ2ZvZB+P6nzaxWVDnNrJuZTQ27rZllZqfFvfawmX0Z9xm6JTnfIDNbYGaLzOzKEl6vHW6fReH2ah332lXh9AVmNjCZuSqQ8w9m9lm4/V43s33iXivxOxBRzpFmtiouz3lxr50dfk8WmtnZEWa8LS7f52a2Ju61dG7LsWa2srT7zSxwR/g5ZplZj7jX0rUtd5bx9DDbLDN738wOjHstbV1QJZCzn5mtjfu3vSbutTK/LyVy96x7ADcDV4btK4GbSplvXSnTnwGGhe37gN9ElRPoALQP23sBy4HdwucPA0NTlK0m8AXQFqgFzAQ6FZvnt8B9YXsY8HTY7hTOXxtoEy6nZoQ5+wN1w/ZvinKW9R2IKOdI4K4S3tsYWBz+bBS2G0WRsdj8FwNj070tw3UdDvQA5pTy+rHARMCAg4EP0rktE8zYp2jdwDFFGcPnS4CmGbIt+wEvV/b7UvTIyj0VYAjwSNh+BDgx0TeamQFHAOMq8v5y2mlOd//c3ReG7WXASqBZivLE6w0scvfF7r4ZeCrMGy8+/zjgyHD7DQGecvdN7v4lsChcXiQ53f1Nd18fPp0GtEhRlrIksj1LMxCY5O7fu/sPwCRgUAZkHA48mYIcO+XBTc7flzHLEOBRD0wDdjOz5qRvW+40o7u/H2aA6L6XiWzL0lToO52tRWUPd18OEP7cvZT5cs1suplNM7OiX+hNgDXuXhg+zwf2jjgnAGbWm+Avgi/iJt8Y7j7fZma1k5htb2Bp3POStkNsnnB7rSXYfom8N505451L8BdskZK+A6mQaM5Twn/PcWbWspzvTVdGwkOIbYA34iana1smorTPks7vZnkU/14WdUE1w4IupqJ2iJnNNLOJZtY5nFahbZmxfX9ZGd28lGMxrTzo5qUt8IaZzQZ+LGG+Cl9XnaSchH9lPQac7e5bw8lXAd8SFJoxwBXA9RXNWnyVJUwrvh1KmyeR9yZLwusyszOAPKBv3OQdvgPu/kVJ709DzpeAJ919k5mNItgLPCLB9yZDedYzDBjn7lvipqVrWyYiE76bCTGz/gRF5bC4yQl3QZUGHwP7uPs6MzsWeB5oTwW3Zcbuqbj7Ue5+QAmPF4AV4S/hol/GK0tZRlE3L4uBt4DuBJ267WZmRQW1BbAsypxmtiswHvhzuCtftOzl4e79JuA/JPcQUz7QMu55SdshNk+4vRoS7EYn8t505sTMjiIo5IPD7QWU+h2IJKe7r47L9gDQM9H3pitjnGEUO/SVxm2ZiNI+Szq/mztlZl2BB4Eh7r66aHrctlwJFHVBFQl3/9Hd14XtCUCOmTWlotsy1SeJUvEAbmH7E+A3lzBPI6B22G4KLCQ8yQT8j+1P1P82wpy1gNeBS0t4rXn404DbgdFJzLYLwUnMNmw7Cde52DwXsv2J+mfCdme2P1G/mNSdqE8kZ3eCQ4btE/0ORJSzeVz7JGBa2G4MfBnmbRS2G0eRMZyvI8GJZItiW8atszWln1w+ju1P1H+Yzm2ZYMZWBOcb+xSbXg9oENd+HxgU4bbcs+jfmqC4fR1u14S+LzssL5UfJIUbqAnBL+KF4c/G4fQ84MGw3QeYHW6I2cC5ce9vS9D1yyKCAlM7wpxnAAXAp3GPbuFrb4TZ5wCPA/WTnO9Y4HOCX8hXh9OuJ/hrHyA33D6Lwu3VNu69V4fvWwAck+J/753lnAysiNt+L+7sOxBRzn8Ac8M8bwL7xb33nHA7LwJ+FVXG8Pm1FPsDJoJt+STBlZAFBH8xnwuMAkaFrxtwd/g5ZgN5EWzLnWV8EPgh7ns5PZzeNtyOM8Pvw9URb8uL4r6X04grgiV9X3b2UDctIiKSNBl7TkVERLKPioqIiCSNioqIiCSNioqIiCSNioqIiCRNxt5RL5JOZlZ0+TcE1+1vAVaFz9e7e58kry8POMvdL0nmckWipkuKRYoxs2sJeuS9NeosItlGh79EdsLM1oU/+5nZ22b2TDjWyOhwzIwPw7Ex2oXzNTOzZ83so/BxaAnL7GdmL4fta8MxL94ys8VmVuLei5mtM7Mbw47/ppnZHuH0X5rZnHB6VP1HiQAqKiLldSDwO6ALcCbQwd17E9w9fXE4z7+B29y9F3BK+NrO7EfQbXtv4K9mllPCPPUIunY5EJgCnB9OvwYYGE4fXKFPJZIkOqciUj4feTicgZl9AbwWTp9NMFgYwFFAp2DoGQB2NbMG7v5TGcsd70Fnk5vMbCWwB0GXGvE2Ay+H7RnAgLD9HvCwmT0D/L+KfSyR5FBRESmfTXHtrXHPt7Lt/1MN4BB331DB5W6h5P+bBb7tJGhsHncfZWYHEXSy+KmZdfO4HnFF0kmHv0SS7zWCTvoAMLNuqVyZmbVz9w/c/RqCoR1a7uw9IqmioiKSfJcAeeEIj58R9AibSreEFwrMITjXMjPF6xMplS4pFhGRpNGeioiIJI2KioiIJI2KioiIJI2KioiIJI2KioiIJI2KioiIJI2KioiIJM3/B7rPlSnw0WqEAAAAAElFTkSuQmCC\n",
      "text/plain": [
       "<Figure size 432x288 with 1 Axes>"
      ]
     },
     "metadata": {},
     "output_type": "display_data"
    }
   ],
   "source": [
    "%matplotlib inline\n",
    "import math\n",
    "from qctoolkit.pulses.plotting import plot as plot\n",
    "\n",
    "sine = file_pulse_storage['my_other_pulse']\n",
    "\n",
    "_ = plot(sine, {'omega': 2*math.pi}, sample_rate=1000, show=False)\n",
    "\n",
    "if sine is file_pulse_storage['my_other_pulse']:\n",
    "    print('Loading the same pulse multiple times gives you the same object')"
   ]
  },
  {
   "cell_type": "markdown",
   "metadata": {},
   "source": [
    "## Composed pulses and the role of identifiers\n",
    "If we have a pulse that contains other pulses all pulses that have an identifier are stored seperatly. Each `PulseStorage` instance expects that identifiers are unique (see below). Anonymous subpulses are stored together with their parent.\n",
    "\n",
    "We will now only use a dictionary as a backend it is easier to see what happens.\n",
    "\n",
    "### Storing"
   ]
  },
  {
   "cell_type": "code",
   "execution_count": 4,
   "metadata": {},
   "outputs": [
    {
     "name": "stdout",
     "output_type": "stream",
     "text": [
      "{'combined': '{\\n'\n",
      "             '    \"#identifier\": \"combined\",\\n'\n",
      "             '    \"#type\": '\n",
      "             '\"qctoolkit.pulses.sequence_pulse_template.SequencePulseTemplate\",\\n'\n",
      "             '    \"subtemplates\": [\\n'\n",
      "             '        {\\n'\n",
      "             '            \"#type\": '\n",
      "             '\"qctoolkit.pulses.repetition_pulse_template.RepetitionPulseTemplate\",\\n'\n",
      "             '            \"body\": {\\n'\n",
      "             '                \"#identifier\": \"my_other_pulse\",\\n'\n",
      "             '                \"#type\": \"reference\"\\n'\n",
      "             '            },\\n'\n",
      "             '            \"repetition_count\": \"N_sine\"\\n'\n",
      "             '        },\\n'\n",
      "             '        {\\n'\n",
      "             '            \"#identifier\": \"my_pulse\",\\n'\n",
      "             '            \"#type\": \"reference\"\\n'\n",
      "             '        }\\n'\n",
      "             '    ]\\n'\n",
      "             '}',\n",
      " 'my_other_pulse': '{\\n'\n",
      "                   '    \"#identifier\": \"my_other_pulse\",\\n'\n",
      "                   '    \"#type\": '\n",
      "                   '\"qctoolkit.pulses.function_pulse_template.FunctionPulseTemplate\",\\n'\n",
      "                   '    \"channel\": \"default\",\\n'\n",
      "                   '    \"duration_expression\": \"2*pi/omega\",\\n'\n",
      "                   '    \"expression\": \"sin(omega*t)\",\\n'\n",
      "                   '    \"measurements\": [],\\n'\n",
      "                   '    \"parameter_constraints\": []\\n'\n",
      "                   '}',\n",
      " 'my_pulse': '{\\n'\n",
      "             '    \"#identifier\": \"my_pulse\",\\n'\n",
      "             '    \"#type\": '\n",
      "             '\"qctoolkit.pulses.table_pulse_template.TablePulseTemplate\",\\n'\n",
      "             '    \"entries\": {\\n'\n",
      "             '        \"default\": [\\n'\n",
      "             '            [\\n'\n",
      "             '                \"t_begin\",\\n'\n",
      "             '                \"v_begin\",\\n'\n",
      "             '                \"hold\"\\n'\n",
      "             '            ],\\n'\n",
      "             '            [\\n'\n",
      "             '                \"t_end\",\\n'\n",
      "             '                \"v_end\",\\n'\n",
      "             '                \"linear\"\\n'\n",
      "             '            ]\\n'\n",
      "             '        ]\\n'\n",
      "             '    },\\n'\n",
      "             '    \"measurements\": [],\\n'\n",
      "             '    \"parameter_constraints\": []\\n'\n",
      "             '}'}\n"
     ]
    }
   ],
   "source": [
    "from qctoolkit.pulses import RepetitionPT, SequencePT\n",
    "\n",
    "# anonymous pulse template\n",
    "repeated_sine = RepetitionPT(sine, 'N_sine')\n",
    "\n",
    "my_sequence = SequencePT(repeated_sine, table_pulse, identifier='combined')\n",
    "\n",
    "dict_pulse_storage['combined'] = my_sequence\n",
    "\n",
    "pprint.pprint(dict_backend.storage)"
   ]
  },
  {
   "cell_type": "markdown",
   "metadata": {},
   "source": [
    "As you see, the serialization of 'combined' explicitly contains the anonymous `RepetitionPulseTemplate` and references to 'my_pulse' and 'my_other_pulse'.\n",
    "\n",
    "## Pulse registry and unique identifiers\n",
    "There is the possibility to store pulse templates on construction into a pulse registry. This can be a `PulseStorage`. To set a pulse storage as the default pulse registry call `set_to_default_registry`"
   ]
  },
  {
   "cell_type": "code",
   "execution_count": 5,
   "metadata": {},
   "outputs": [
    {
     "name": "stdout",
     "output_type": "stream",
     "text": [
      "{'combined': '{\\n'\n",
      "             '    \"#identifier\": \"combined\",\\n'\n",
      "             '    \"#type\": '\n",
      "             '\"qctoolkit.pulses.sequence_pulse_template.SequencePulseTemplate\",\\n'\n",
      "             '    \"subtemplates\": [\\n'\n",
      "             '        {\\n'\n",
      "             '            \"#type\": '\n",
      "             '\"qctoolkit.pulses.repetition_pulse_template.RepetitionPulseTemplate\",\\n'\n",
      "             '            \"body\": {\\n'\n",
      "             '                \"#identifier\": \"my_other_pulse\",\\n'\n",
      "             '                \"#type\": \"reference\"\\n'\n",
      "             '            },\\n'\n",
      "             '            \"repetition_count\": \"N_sine\"\\n'\n",
      "             '        },\\n'\n",
      "             '        {\\n'\n",
      "             '            \"#identifier\": \"my_pulse\",\\n'\n",
      "             '            \"#type\": \"reference\"\\n'\n",
      "             '        }\\n'\n",
      "             '    ]\\n'\n",
      "             '}',\n",
      " 'my_other_pulse': '{\\n'\n",
      "                   '    \"#identifier\": \"my_other_pulse\",\\n'\n",
      "                   '    \"#type\": '\n",
      "                   '\"qctoolkit.pulses.function_pulse_template.FunctionPulseTemplate\",\\n'\n",
      "                   '    \"channel\": \"default\",\\n'\n",
      "                   '    \"duration_expression\": \"2*pi/omega\",\\n'\n",
      "                   '    \"expression\": \"sin(omega*t)\",\\n'\n",
      "                   '    \"measurements\": [],\\n'\n",
      "                   '    \"parameter_constraints\": []\\n'\n",
      "                   '}',\n",
      " 'my_pulse': '{\\n'\n",
      "             '    \"#identifier\": \"my_pulse\",\\n'\n",
      "             '    \"#type\": '\n",
      "             '\"qctoolkit.pulses.table_pulse_template.TablePulseTemplate\",\\n'\n",
      "             '    \"entries\": {\\n'\n",
      "             '        \"default\": [\\n'\n",
      "             '            [\\n'\n",
      "             '                \"t_begin\",\\n'\n",
      "             '                \"v_begin\",\\n'\n",
      "             '                \"hold\"\\n'\n",
      "             '            ],\\n'\n",
      "             '            [\\n'\n",
      "             '                \"t_end\",\\n'\n",
      "             '                \"v_end\",\\n'\n",
      "             '                \"linear\"\\n'\n",
      "             '            ]\\n'\n",
      "             '        ]\\n'\n",
      "             '    },\\n'\n",
      "             '    \"measurements\": [],\\n'\n",
      "             '    \"parameter_constraints\": []\\n'\n",
      "             '}',\n",
      " 'new_pulse': '{\\n'\n",
      "              '    \"#identifier\": \"new_pulse\",\\n'\n",
      "              '    \"#type\": '\n",
      "              '\"qctoolkit.pulses.function_pulse_template.FunctionPulseTemplate\",\\n'\n",
      "              '    \"channel\": \"default\",\\n'\n",
      "              '    \"duration_expression\": 1,\\n'\n",
      "              '    \"expression\": 0,\\n'\n",
      "              '    \"measurements\": [],\\n'\n",
      "              '    \"parameter_constraints\": []\\n'\n",
      "              '}'}\n"
     ]
    }
   ],
   "source": [
    "from qctoolkit.pulses import FunctionPT\n",
    "\n",
    "dict_pulse_storage.set_to_default_registry()\n",
    "\n",
    "new_pulse = FunctionPT(0, 1, identifier='new_pulse')\n",
    "\n",
    "pprint.pprint(dict_backend.storage)"
   ]
  },
  {
   "cell_type": "markdown",
   "metadata": {},
   "source": [
    "As you see each newly created pulse is put into the pulse storage. Creating a new pulse with the same name will fail:"
   ]
  },
  {
   "cell_type": "code",
   "execution_count": 6,
   "metadata": {},
   "outputs": [
    {
     "name": "stdout",
     "output_type": "stream",
     "text": [
      "Oh No!!!\n",
      "('Pulse with name already exists', 'new_pulse')\n",
      "\n"
     ]
    }
   ],
   "source": [
    "try:\n",
    "    new_pulse = FunctionPT(0, 1, identifier='new_pulse')\n",
    "except RuntimeError as err:\n",
    "    print('Oh No!!!')\n",
    "    print(err)\n",
    "    print()"
   ]
  },
  {
   "cell_type": "markdown",
   "metadata": {},
   "source": [
    "We have to either explicitly overwrite the registry or delete the old pulse from it:"
   ]
  },
  {
   "cell_type": "code",
   "execution_count": 7,
   "metadata": {},
   "outputs": [
    {
     "name": "stdout",
     "output_type": "stream",
     "text": [
      "Overwriting the registry works!\n",
      "Deleting the pulse works, too!\n"
     ]
    }
   ],
   "source": [
    "try:\n",
    "    new_pulse = FunctionPT(0, 1, identifier='new_pulse', registry=dict())\n",
    "except:\n",
    "    raise\n",
    "else:\n",
    "    print('Overwriting the registry works!')\n",
    "\n",
    "del dict_pulse_storage['new_pulse']\n",
    "try:\n",
    "    new_pulse = FunctionPT(0, 1, identifier='new_pulse')\n",
    "except:\n",
    "    raise\n",
    "else:\n",
    "    print('Deleting the pulse works, too!')"
   ]
  }
 ],
 "metadata": {
  "language_info": {
   "codemirror_mode": {
    "name": "ipython",
    "version": 3
   },
   "file_extension": ".py",
   "mimetype": "text/x-python",
   "name": "python",
   "nbconvert_exporter": "python",
   "pygments_lexer": "ipython3",
  }
 },
 "nbformat": 4,
 "nbformat_minor": 2
}
